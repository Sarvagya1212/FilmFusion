{
 "cells": [
  {
   "cell_type": "code",
   "execution_count": 1,
   "id": "4febcd9f",
   "metadata": {},
   "outputs": [],
   "source": [
    "import os\n",
    "import sys\n",
    "sys.path.append(os.path.abspath('..'))"
   ]
  },
  {
   "cell_type": "code",
   "execution_count": 2,
   "id": "5647c875",
   "metadata": {},
   "outputs": [],
   "source": [
    "\n",
    "from src.EDA.data_overview import Inspector,ViewData,TypeInspector,StatsInspector\n",
    "from src.EDA.univatiate import AutoUnivariateAnalyzer\n",
    "from src.EDA.bivariate import BivariateAnalyzer, CategoricalVsNumericalAnalysis, NumericalVsNumericalAnalysis\n",
    "\n",
    "import pandas as pd \n",
    "import numpy as np \n",
    "import seaborn as sns\n",
    "import matplotlib.pyplot as plt\n"
   ]
  },
  {
   "cell_type": "code",
   "execution_count": 3,
   "id": "d83637b9",
   "metadata": {},
   "outputs": [],
   "source": [
    "\n",
    "ratings = pd.read_csv(r'C:\\Users\\sarva\\MoviePulse\\data\\processed\\ratings_clean.csv')\n",
    "movies = pd.read_csv(r'C:\\Users\\sarva\\MoviePulse\\data\\processed\\movies_clean.csv')\n",
    "\n",
    "data ={'movies' : movies , 'ratings' : ratings}"
   ]
  },
  {
   "cell_type": "code",
   "execution_count": 4,
   "id": "88cdd96e",
   "metadata": {},
   "outputs": [
    {
     "name": "stdout",
     "output_type": "stream",
     "text": [
      "\n",
      "- Shape : (100836, 4)\n",
      "Sample of :\n",
      "    userId  movieId  rating            timestamp\n",
      "0       1        1     4.0  2000-07-30 18:45:03\n",
      "1       1        3     4.0  2000-07-30 18:20:47\n",
      "2       1        6     4.0  2000-07-30 18:37:04\n",
      "3       1       47     5.0  2000-07-30 19:03:35\n",
      "4       1       50     5.0  2000-07-30 18:48:51\n"
     ]
    }
   ],
   "source": [
    "see_data = Inspector(ViewData())\n",
    "see_data.inspect(ratings)\n"
   ]
  },
  {
   "cell_type": "code",
   "execution_count": 5,
   "id": "839f632a",
   "metadata": {},
   "outputs": [
    {
     "name": "stdout",
     "output_type": "stream",
     "text": [
      "\n",
      "- Shape : (9742, 5)\n",
      "Sample of :\n",
      "    movieId                               title  \\\n",
      "0        1                    Toy Story (1995)   \n",
      "1        2                      Jumanji (1995)   \n",
      "2        3             Grumpier Old Men (1995)   \n",
      "3        4            Waiting to Exhale (1995)   \n",
      "4        5  Father of the Bride Part II (1995)   \n",
      "\n",
      "                                              genres  imdbId   tmdbId  \n",
      "0  ['Adventure', 'Animation', 'Children', 'Comedy...  114709    862.0  \n",
      "1               ['Adventure', 'Children', 'Fantasy']  113497   8844.0  \n",
      "2                              ['Comedy', 'Romance']  113228  15602.0  \n",
      "3                     ['Comedy', 'Drama', 'Romance']  114885  31357.0  \n",
      "4                                         ['Comedy']  113041  11862.0  \n"
     ]
    }
   ],
   "source": [
    "see_data.inspect(movies)"
   ]
  },
  {
   "cell_type": "code",
   "execution_count": 6,
   "id": "a81864e0",
   "metadata": {},
   "outputs": [
    {
     "name": "stdout",
     "output_type": "stream",
     "text": [
      "\n",
      "Column Types and Non-null Counts:\n",
      "<class 'pandas.core.frame.DataFrame'>\n",
      "RangeIndex: 9742 entries, 0 to 9741\n",
      "Data columns (total 5 columns):\n",
      " #   Column   Non-Null Count  Dtype  \n",
      "---  ------   --------------  -----  \n",
      " 0   movieId  9742 non-null   int64  \n",
      " 1   title    9742 non-null   object \n",
      " 2   genres   9742 non-null   object \n",
      " 3   imdbId   9742 non-null   int64  \n",
      " 4   tmdbId   9734 non-null   float64\n",
      "dtypes: float64(1), int64(2), object(2)\n",
      "memory usage: 380.7+ KB\n"
     ]
    }
   ],
   "source": [
    "see_data.use(TypeInspector())\n",
    "see_data.inspect(movies)"
   ]
  },
  {
   "cell_type": "code",
   "execution_count": 7,
   "id": "10a57109",
   "metadata": {},
   "outputs": [
    {
     "name": "stdout",
     "output_type": "stream",
     "text": [
      "\n",
      "Column Types and Non-null Counts:\n",
      "<class 'pandas.core.frame.DataFrame'>\n",
      "RangeIndex: 100836 entries, 0 to 100835\n",
      "Data columns (total 4 columns):\n",
      " #   Column     Non-Null Count   Dtype  \n",
      "---  ------     --------------   -----  \n",
      " 0   userId     100836 non-null  int64  \n",
      " 1   movieId    100836 non-null  int64  \n",
      " 2   rating     100836 non-null  float64\n",
      " 3   timestamp  100836 non-null  object \n",
      "dtypes: float64(1), int64(2), object(1)\n",
      "memory usage: 3.1+ MB\n"
     ]
    }
   ],
   "source": [
    "see_data.inspect(ratings)"
   ]
  },
  {
   "cell_type": "code",
   "execution_count": 8,
   "id": "6b0a37ee",
   "metadata": {},
   "outputs": [
    {
     "name": "stdout",
     "output_type": "stream",
     "text": [
      "\n",
      "Numerical Stats:\n",
      "             movieId        imdbId         tmdbId\n",
      "count    9742.000000  9.742000e+03    9734.000000\n",
      "mean    42200.353623  6.771839e+05   55162.123793\n",
      "std     52160.494854  1.107228e+06   93653.481487\n",
      "min         1.000000  4.170000e+02       2.000000\n",
      "25%      3248.250000  9.518075e+04    9665.500000\n",
      "50%      7300.000000  1.672605e+05   16529.000000\n",
      "75%     76232.000000  8.055685e+05   44205.750000\n",
      "max    193609.000000  8.391976e+06  525662.000000\n",
      "\n",
      "Categorical Stats:\n",
      "              title     genres\n",
      "count          9742       9742\n",
      "unique         9737        951\n",
      "top     Emma (1996)  ['Drama']\n",
      "freq              2       1053\n"
     ]
    }
   ],
   "source": [
    "see_data.use(StatsInspector())\n",
    "see_data.inspect(movies)"
   ]
  },
  {
   "cell_type": "code",
   "execution_count": 9,
   "id": "4c849050",
   "metadata": {},
   "outputs": [
    {
     "name": "stdout",
     "output_type": "stream",
     "text": [
      "\n",
      "Numerical Stats:\n",
      "              userId        movieId         rating\n",
      "count  100836.000000  100836.000000  100836.000000\n",
      "mean      326.127564   19435.295718       3.501557\n",
      "std       182.618491   35530.987199       1.042529\n",
      "min         1.000000       1.000000       0.500000\n",
      "25%       177.000000    1199.000000       3.000000\n",
      "50%       325.000000    2991.000000       3.500000\n",
      "75%       477.000000    8122.000000       4.000000\n",
      "max       610.000000  193609.000000       5.000000\n",
      "\n",
      "Categorical Stats:\n",
      "                  timestamp\n",
      "count                100836\n",
      "unique                85043\n",
      "top     2016-04-04 16:39:58\n",
      "freq                    128\n"
     ]
    }
   ],
   "source": [
    "see_data.inspect(ratings)"
   ]
  },
  {
   "cell_type": "code",
   "execution_count": 10,
   "id": "97da9800",
   "metadata": {},
   "outputs": [
    {
     "name": "stdout",
     "output_type": "stream",
     "text": [
      "Missing Values in Movies:  movieId    0\n",
      "title      0\n",
      "genres     0\n",
      "imdbId     0\n",
      "tmdbId     8\n",
      "dtype: int64\n",
      "Missing Values in Ratings:  userId       0\n",
      "movieId      0\n",
      "rating       0\n",
      "timestamp    0\n",
      "dtype: int64\n"
     ]
    }
   ],
   "source": [
    "print(f\"Missing Values in Movies: \" , movies.isna().sum())\n",
    "print(f\"Missing Values in Ratings: \" , ratings.isna().sum())"
   ]
  },
  {
   "cell_type": "code",
   "execution_count": 11,
   "id": "183203d8",
   "metadata": {},
   "outputs": [
    {
     "name": "stdout",
     "output_type": "stream",
     "text": [
      "Duplicate values in movies:  0\n",
      "Duplicate values in ratings:  0\n"
     ]
    }
   ],
   "source": [
    "print(f\"Duplicate values in movies: \" , movies.duplicated().sum())\n",
    "print(f\"Duplicate values in ratings: \" , ratings.duplicated().sum())"
   ]
  },
  {
   "cell_type": "markdown",
   "id": "8b0e2d79",
   "metadata": {},
   "source": [
    "### Analyse Genres columns"
   ]
  },
  {
   "cell_type": "code",
   "execution_count": null,
   "id": "87aaf122",
   "metadata": {},
   "outputs": [],
   "source": []
  },
  {
   "cell_type": "code",
   "execution_count": 12,
   "id": "9ef72c9d",
   "metadata": {},
   "outputs": [],
   "source": [
    "import ast\n",
    "\n",
    "movies['genres'] = movies['genres'].apply(ast.literal_eval)\n"
   ]
  },
  {
   "cell_type": "code",
   "execution_count": 13,
   "id": "11c1cade",
   "metadata": {},
   "outputs": [
    {
     "data": {
      "text/html": [
       "<div>\n",
       "<style scoped>\n",
       "    .dataframe tbody tr th:only-of-type {\n",
       "        vertical-align: middle;\n",
       "    }\n",
       "\n",
       "    .dataframe tbody tr th {\n",
       "        vertical-align: top;\n",
       "    }\n",
       "\n",
       "    .dataframe thead th {\n",
       "        text-align: right;\n",
       "    }\n",
       "</style>\n",
       "<table border=\"1\" class=\"dataframe\">\n",
       "  <thead>\n",
       "    <tr style=\"text-align: right;\">\n",
       "      <th></th>\n",
       "      <th>movieId</th>\n",
       "      <th>title</th>\n",
       "      <th>genres</th>\n",
       "      <th>imdbId</th>\n",
       "      <th>tmdbId</th>\n",
       "    </tr>\n",
       "  </thead>\n",
       "  <tbody>\n",
       "    <tr>\n",
       "      <th>0</th>\n",
       "      <td>1</td>\n",
       "      <td>Toy Story (1995)</td>\n",
       "      <td>Adventure</td>\n",
       "      <td>114709</td>\n",
       "      <td>862.0</td>\n",
       "    </tr>\n",
       "    <tr>\n",
       "      <th>0</th>\n",
       "      <td>1</td>\n",
       "      <td>Toy Story (1995)</td>\n",
       "      <td>Animation</td>\n",
       "      <td>114709</td>\n",
       "      <td>862.0</td>\n",
       "    </tr>\n",
       "    <tr>\n",
       "      <th>0</th>\n",
       "      <td>1</td>\n",
       "      <td>Toy Story (1995)</td>\n",
       "      <td>Children</td>\n",
       "      <td>114709</td>\n",
       "      <td>862.0</td>\n",
       "    </tr>\n",
       "    <tr>\n",
       "      <th>0</th>\n",
       "      <td>1</td>\n",
       "      <td>Toy Story (1995)</td>\n",
       "      <td>Comedy</td>\n",
       "      <td>114709</td>\n",
       "      <td>862.0</td>\n",
       "    </tr>\n",
       "    <tr>\n",
       "      <th>0</th>\n",
       "      <td>1</td>\n",
       "      <td>Toy Story (1995)</td>\n",
       "      <td>Fantasy</td>\n",
       "      <td>114709</td>\n",
       "      <td>862.0</td>\n",
       "    </tr>\n",
       "    <tr>\n",
       "      <th>...</th>\n",
       "      <td>...</td>\n",
       "      <td>...</td>\n",
       "      <td>...</td>\n",
       "      <td>...</td>\n",
       "      <td>...</td>\n",
       "    </tr>\n",
       "    <tr>\n",
       "      <th>9738</th>\n",
       "      <td>193583</td>\n",
       "      <td>No Game No Life: Zero (2017)</td>\n",
       "      <td>Fantasy</td>\n",
       "      <td>5914996</td>\n",
       "      <td>445030.0</td>\n",
       "    </tr>\n",
       "    <tr>\n",
       "      <th>9739</th>\n",
       "      <td>193585</td>\n",
       "      <td>Flint (2017)</td>\n",
       "      <td>Drama</td>\n",
       "      <td>6397426</td>\n",
       "      <td>479308.0</td>\n",
       "    </tr>\n",
       "    <tr>\n",
       "      <th>9740</th>\n",
       "      <td>193587</td>\n",
       "      <td>Bungo Stray Dogs: Dead Apple (2018)</td>\n",
       "      <td>Action</td>\n",
       "      <td>8391976</td>\n",
       "      <td>483455.0</td>\n",
       "    </tr>\n",
       "    <tr>\n",
       "      <th>9740</th>\n",
       "      <td>193587</td>\n",
       "      <td>Bungo Stray Dogs: Dead Apple (2018)</td>\n",
       "      <td>Animation</td>\n",
       "      <td>8391976</td>\n",
       "      <td>483455.0</td>\n",
       "    </tr>\n",
       "    <tr>\n",
       "      <th>9741</th>\n",
       "      <td>193609</td>\n",
       "      <td>Andrew Dice Clay: Dice Rules (1991)</td>\n",
       "      <td>Comedy</td>\n",
       "      <td>101726</td>\n",
       "      <td>37891.0</td>\n",
       "    </tr>\n",
       "  </tbody>\n",
       "</table>\n",
       "<p>22084 rows × 5 columns</p>\n",
       "</div>"
      ],
      "text/plain": [
       "      movieId                                title     genres   imdbId  \\\n",
       "0           1                     Toy Story (1995)  Adventure   114709   \n",
       "0           1                     Toy Story (1995)  Animation   114709   \n",
       "0           1                     Toy Story (1995)   Children   114709   \n",
       "0           1                     Toy Story (1995)     Comedy   114709   \n",
       "0           1                     Toy Story (1995)    Fantasy   114709   \n",
       "...       ...                                  ...        ...      ...   \n",
       "9738   193583         No Game No Life: Zero (2017)    Fantasy  5914996   \n",
       "9739   193585                         Flint (2017)      Drama  6397426   \n",
       "9740   193587  Bungo Stray Dogs: Dead Apple (2018)     Action  8391976   \n",
       "9740   193587  Bungo Stray Dogs: Dead Apple (2018)  Animation  8391976   \n",
       "9741   193609  Andrew Dice Clay: Dice Rules (1991)     Comedy   101726   \n",
       "\n",
       "        tmdbId  \n",
       "0        862.0  \n",
       "0        862.0  \n",
       "0        862.0  \n",
       "0        862.0  \n",
       "0        862.0  \n",
       "...        ...  \n",
       "9738  445030.0  \n",
       "9739  479308.0  \n",
       "9740  483455.0  \n",
       "9740  483455.0  \n",
       "9741   37891.0  \n",
       "\n",
       "[22084 rows x 5 columns]"
      ]
     },
     "execution_count": 13,
     "metadata": {},
     "output_type": "execute_result"
    }
   ],
   "source": [
    "genres_exploded = movies.explode('genres')\n",
    "genres_exploded"
   ]
  },
  {
   "cell_type": "code",
   "execution_count": 14,
   "metadata": {},
   "outputs": [
    {
     "name": "stdout",
     "output_type": "stream",
     "text": [
      "                 genre  Number of Movies\n",
      "0                Drama              4361\n",
      "1               Comedy              3756\n",
      "2             Thriller              1894\n",
      "3               Action              1828\n",
      "4              Romance              1596\n",
      "5            Adventure              1263\n",
      "6                Crime              1199\n",
      "7               Sci-Fi               980\n",
      "8               Horror               978\n",
      "9              Fantasy               779\n",
      "10            Children               664\n",
      "11           Animation               611\n",
      "12             Mystery               573\n",
      "13         Documentary               440\n",
      "14                 War               382\n",
      "15             Musical               334\n",
      "16             Western               167\n",
      "17                IMAX               158\n",
      "18           Film-Noir                87\n",
      "19  (no genres listed)                34\n"
     ]
    }
   ],
   "source": [
    "genres_count = genres_exploded['genres'].value_counts().reset_index()\n",
    "genres_count.columns = ['genre' , 'Number of Movies']\n",
    "print(genres_count)"
   ]
  },
  {
   "cell_type": "code",
   "execution_count": 15,
   "id": "4eb1311f",
   "metadata": {},
   "outputs": [
    {
     "data": {
      "image/png": "[encoded data removed]",
      "text/plain": [
       "<Figure size 1000x600 with 1 Axes>"
      ]
     },
     "metadata": {},
     "output_type": "display_data"
    }
   ],
   "source": [
    "bivariate = BivariateAnalyzer(CategoricalVsNumericalAnalysis())\n",
    "bivariate.execute_analysis(genres_count, 'genre' , 'Number of Movies' , plot_type='bar')"
   ]
  },
  {
   "cell_type": "code",
   "execution_count": null,
   "id": "4c3817e8",
   "metadata": {},
   "outputs": [],
   "source": []
  }
 ],
 "metadata": {
  "kernelspec": {
   "display_name": "moviepulse",
   "language": "python",
   "name": "python3"
  },
  "language_info": {
   "codemirror_mode": {
    "name": "ipython",
    "version": 3
   },
   "file_extension": ".py",
   "mimetype": "text/x-python",
   "name": "python",
   "nbconvert_exporter": "python",
   "pygments_lexer": "ipython3",
   "version": "3.8.20"
  }
 },
 "nbformat": 4,
 "nbformat_minor": 5
}
