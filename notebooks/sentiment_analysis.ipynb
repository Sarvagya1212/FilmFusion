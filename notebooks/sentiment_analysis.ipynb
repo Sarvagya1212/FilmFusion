{
 "cells": [
  {
   "cell_type": "code",
   "execution_count": null,
   "id": "fbb01895",
   "metadata": {},
   "outputs": [],
   "source": [
    "import sys\n",
    "import os\n",
    "sys.path.append(os.path.abspath('..')) \n",
    "\n",
    "from analysis.sentiment_analysis import setup_vader, analyze_sentiment\n",
    "import pandas as pd\n"
   ]
  },
  {
   "cell_type": "code",
   "execution_count": null,
   "id": "caa3d226",
   "metadata": {},
   "outputs": [],
   "source": [
    "\n",
    "# 1. Setup VADER (download if not available)\n",
    "setup_vader()\n",
    "\n",
    "# 2. Load dataset with 'reviews' column\n",
    "df_reviews = pd.read_csv(r\"C:\\Users\\sarva\\MoviePulse\\data\\processed\\movies_metadata_full.csv\")  \n",
    "\n",
    "# 3. Perform sentiment analysis\n",
    "df_sentiment = analyze_sentiment(df_reviews)\n",
    "\n",
    "# 4. Save result\n",
    "df_sentiment.to_csv(r\"C:\\Users\\sarva\\MoviePulse\\data\\processed\\reviews_with_sentiment.csv\", index=False)\n",
    "\n",
    "# 5. Preview\n",
    "df_sentiment[[\"tmdbId\", \"reviews\", \"compound\", \"pos\", \"neu\", \"neg\"]].head()\n"
   ]
  },
  {
   "cell_type": "code",
   "execution_count": 2,
   "id": "e44bffc6",
   "metadata": {},
   "outputs": [],
   "source": [
    "from analysis.agg_senti_feature import setup_vader, analyze_and_aggregate_sentiment"
   ]
  },
  {
   "cell_type": "code",
   "execution_count": 3,
   "id": "717a91d5",
   "metadata": {},
   "outputs": [
    {
     "name": "stdout",
     "output_type": "stream",
     "text": [
      " Enriched movie metadata saved.\n"
     ]
    }
   ],
   "source": [
    "movies = pd.read_csv(r\"C:\\Users\\sarva\\MoviePulse\\data\\processed\\movie_feature.csv\")\n",
    "sentiment = pd.read_csv(r\"C:\\Users\\sarva\\MoviePulse\\data\\processed\\reviews_with_sentiment.csv\")\n",
    "\n",
    "movies_enriched = pd.merge(movies, sentiment, on='tmdbId', how='left')\n",
    "\n",
    "movies_enriched.to_csv(r\"C:\\Users\\sarva\\MoviePulse\\data\\processed\\movie_feature_enriched.csv\", index=False)\n",
    "print(\" Enriched movie metadata saved.\")"
   ]
  },
  {
   "cell_type": "code",
   "execution_count": null,
   "id": "1f4fbb11",
   "metadata": {},
   "outputs": [],
   "source": []
  }
 ],
 "metadata": {
  "kernelspec": {
   "display_name": "moviepulse",
   "language": "python",
   "name": "python3"
  },
  "language_info": {
   "codemirror_mode": {
    "name": "ipython",
    "version": 3
   },
   "file_extension": ".py",
   "mimetype": "text/x-python",
   "name": "python",
   "nbconvert_exporter": "python",
   "pygments_lexer": "ipython3",
   "version": "3.8.20"
  }
 },
 "nbformat": 4,
 "nbformat_minor": 5
}
