{
 "cells": [
  {
   "cell_type": "code",
   "execution_count": 1,
   "id": "20c023d1",
   "metadata": {},
   "outputs": [],
   "source": [
    "import os\n",
    "import sys\n",
    "import pandas as pd\n",
    "\n",
    "sys.path.append(os.path.abspath('..'))\n"
   ]
  },
  {
   "cell_type": "code",
   "execution_count": 4,
   "id": "b00602a5",
   "metadata": {},
   "outputs": [],
   "source": [
    "from src.recommenders.Old_recommenders.Content_based import ContentRecommender\n",
    "from src.recommenders.Old_recommenders.User_cf import UserBasedCF\n",
    "from src.recommenders.Old_recommenders.Item_Based_CF import ItemBasedCF\n",
    "from src.recommenders.recommender_system import RecommenderSystem\n"
   ]
  },
  {
   "cell_type": "code",
   "execution_count": 3,
   "id": "3a26ca5a",
   "metadata": {},
   "outputs": [],
   "source": [
    "ratings_path=r\"C:\\Users\\sarva\\MoviePulse\\data\\processed\\ratings_cleans.csv\"\n",
    "metadata_path=r\"C:\\Users\\sarva\\MoviePulse\\data\\processed\\movie_feature.csv\"\n",
    "tfidf_path=r\"C:\\Users\\sarva\\MoviePulse\\data\\Features\\tfidf_matrix.npz\"\n",
    "tfidf_index_path=r\"C:\\Users\\sarva\\MoviePulse\\data\\Features\\tfidf_sample.csv\""
   ]
  },
  {
   "cell_type": "markdown",
   "id": "57d65c96",
   "metadata": {},
   "source": [
    "## TF-IDF"
   ]
  },
  {
   "cell_type": "code",
   "execution_count": 4,
   "id": "8b94719f",
   "metadata": {},
   "outputs": [
    {
     "name": "stdout",
     "output_type": "stream",
     "text": [
      "Loading feature matrix and metadata...\n",
      "Computing cosine similarity...\n",
      "Model ready for recommendations.\n"
     ]
    },
    {
     "data": {
      "text/html": [
       "<div>\n",
       "<style scoped>\n",
       "    .dataframe tbody tr th:only-of-type {\n",
       "        vertical-align: middle;\n",
       "    }\n",
       "\n",
       "    .dataframe tbody tr th {\n",
       "        vertical-align: top;\n",
       "    }\n",
       "\n",
       "    .dataframe thead th {\n",
       "        text-align: right;\n",
       "    }\n",
       "</style>\n",
       "<table border=\"1\" class=\"dataframe\">\n",
       "  <thead>\n",
       "    <tr style=\"text-align: right;\">\n",
       "      <th></th>\n",
       "      <th>title</th>\n",
       "      <th>avg_ratings</th>\n",
       "      <th>num_ratings</th>\n",
       "      <th>score</th>\n",
       "    </tr>\n",
       "  </thead>\n",
       "  <tbody>\n",
       "    <tr>\n",
       "      <th>1937</th>\n",
       "      <td>Mod Squad, The (1999)</td>\n",
       "      <td>3.187500</td>\n",
       "      <td>8.0</td>\n",
       "      <td>1.0</td>\n",
       "    </tr>\n",
       "    <tr>\n",
       "      <th>2716</th>\n",
       "      <td>Fighting Seabees, The (1944)</td>\n",
       "      <td>3.500000</td>\n",
       "      <td>2.0</td>\n",
       "      <td>1.0</td>\n",
       "    </tr>\n",
       "    <tr>\n",
       "      <th>2888</th>\n",
       "      <td>Cell, The (2000)</td>\n",
       "      <td>3.044444</td>\n",
       "      <td>45.0</td>\n",
       "      <td>1.0</td>\n",
       "    </tr>\n",
       "    <tr>\n",
       "      <th>3219</th>\n",
       "      <td>Divided We Fall (Musíme si pomáhat) (2000)</td>\n",
       "      <td>3.833333</td>\n",
       "      <td>3.0</td>\n",
       "      <td>1.0</td>\n",
       "    </tr>\n",
       "    <tr>\n",
       "      <th>3251</th>\n",
       "      <td>Beach Blanket Bingo (1965)</td>\n",
       "      <td>1.500000</td>\n",
       "      <td>1.0</td>\n",
       "      <td>1.0</td>\n",
       "    </tr>\n",
       "  </tbody>\n",
       "</table>\n",
       "</div>"
      ],
      "text/plain": [
       "                                           title  avg_ratings  num_ratings  \\\n",
       "1937                       Mod Squad, The (1999)     3.187500          8.0   \n",
       "2716                Fighting Seabees, The (1944)     3.500000          2.0   \n",
       "2888                            Cell, The (2000)     3.044444         45.0   \n",
       "3219  Divided We Fall (Musíme si pomáhat) (2000)     3.833333          3.0   \n",
       "3251                  Beach Blanket Bingo (1965)     1.500000          1.0   \n",
       "\n",
       "      score  \n",
       "1937    1.0  \n",
       "2716    1.0  \n",
       "2888    1.0  \n",
       "3219    1.0  \n",
       "3251    1.0  "
      ]
     },
     "execution_count": 4,
     "metadata": {},
     "output_type": "execute_result"
    }
   ],
   "source": [
    "recommender = ContentRecommender(\n",
    "    feature_matrix_path=r\"c:\\Users\\sarva\\MoviePulse\\data\\Features\\tfidf_matrix.npz\",\n",
    "    metadata_path=r\"c:\\Users\\sarva\\MoviePulse\\data\\processed\\movie_feature.csv\",\n",
    "    is_sparse=True\n",
    ")\n",
    "\n",
    "recommender.run()\n",
    "recommender.recommend(\"Casino (1995)\", top_n=5, return_scores=True)\n"
   ]
  },
  {
   "cell_type": "code",
   "execution_count": 5,
   "id": "b00ea581",
   "metadata": {},
   "outputs": [
    {
     "name": "stdout",
     "output_type": "stream",
     "text": [
      "Loading feature matrix and metadata...\n",
      "Computing cosine similarity...\n",
      "Model ready for recommendations.\n"
     ]
    },
    {
     "data": {
      "text/html": [
       "<div>\n",
       "<style scoped>\n",
       "    .dataframe tbody tr th:only-of-type {\n",
       "        vertical-align: middle;\n",
       "    }\n",
       "\n",
       "    .dataframe tbody tr th {\n",
       "        vertical-align: top;\n",
       "    }\n",
       "\n",
       "    .dataframe thead th {\n",
       "        text-align: right;\n",
       "    }\n",
       "</style>\n",
       "<table border=\"1\" class=\"dataframe\">\n",
       "  <thead>\n",
       "    <tr style=\"text-align: right;\">\n",
       "      <th></th>\n",
       "      <th>title</th>\n",
       "      <th>avg_ratings</th>\n",
       "      <th>num_ratings</th>\n",
       "      <th>score</th>\n",
       "    </tr>\n",
       "  </thead>\n",
       "  <tbody>\n",
       "    <tr>\n",
       "      <th>9103</th>\n",
       "      <td>Unforgiven (2013)</td>\n",
       "      <td>0.500000</td>\n",
       "      <td>1.0</td>\n",
       "      <td>0.465415</td>\n",
       "    </tr>\n",
       "    <tr>\n",
       "      <th>95</th>\n",
       "      <td>Muppet Treasure Island (1996)</td>\n",
       "      <td>3.326923</td>\n",
       "      <td>26.0</td>\n",
       "      <td>0.453027</td>\n",
       "    </tr>\n",
       "    <tr>\n",
       "      <th>1117</th>\n",
       "      <td>Fools Rush In (1997)</td>\n",
       "      <td>3.083333</td>\n",
       "      <td>12.0</td>\n",
       "      <td>0.439327</td>\n",
       "    </tr>\n",
       "    <tr>\n",
       "      <th>2481</th>\n",
       "      <td>Circus, The (1928)</td>\n",
       "      <td>4.125000</td>\n",
       "      <td>4.0</td>\n",
       "      <td>0.433671</td>\n",
       "    </tr>\n",
       "    <tr>\n",
       "      <th>9156</th>\n",
       "      <td>Hitchcock/Truffaut (2015)</td>\n",
       "      <td>3.500000</td>\n",
       "      <td>1.0</td>\n",
       "      <td>0.433180</td>\n",
       "    </tr>\n",
       "  </tbody>\n",
       "</table>\n",
       "</div>"
      ],
      "text/plain": [
       "                              title  avg_ratings  num_ratings     score\n",
       "9103              Unforgiven (2013)     0.500000          1.0  0.465415\n",
       "95    Muppet Treasure Island (1996)     3.326923         26.0  0.453027\n",
       "1117           Fools Rush In (1997)     3.083333         12.0  0.439327\n",
       "2481             Circus, The (1928)     4.125000          4.0  0.433671\n",
       "9156      Hitchcock/Truffaut (2015)     3.500000          1.0  0.433180"
      ]
     },
     "execution_count": 5,
     "metadata": {},
     "output_type": "execute_result"
    }
   ],
   "source": [
    "recommender = ContentRecommender(\n",
    "    feature_matrix_path=r\"c:\\Users\\sarva\\MoviePulse\\data\\Features\\embeddings_matrix.npy\",\n",
    "    metadata_path=r\"c:\\Users\\sarva\\MoviePulse\\data\\processed\\movie_feature.csv\",\n",
    "    is_sparse=False\n",
    ")\n",
    "\n",
    "recommender.run()\n",
    "recommender.recommend(\"Casino (1995)\", top_n=5, return_scores=True)\n"
   ]
  },
  {
   "cell_type": "markdown",
   "id": "b045b5bb",
   "metadata": {},
   "source": [
    "### 🔍 Content-Based Recommendation Comparison: TF-IDF vs Embeddings\n",
    "\n",
    "To evaluate the effectiveness of different content-based representations, I tested my recommender system using two types of feature vectors for the same input movie.\n",
    "\n",
    "#### 🎯 Input Movie:\n",
    "`\"Toy Story (1995)\"`\n",
    "\n",
    "---\n",
    "\n",
    "### 📘 Method 1: TF-IDF Based Recommendation\n",
    "\n",
    "TF-IDF was computed on the combination of movie title and genres. The recommendations returned were:\n",
    "\n",
    "| Title                              | Avg Rating | Num Ratings | Similarity Score |\n",
    "|-----------------------------------|------------|--------------|------------------|\n",
    "| For Whom the Bell Tolls (1943)    | 3.75       | 2            | 1.0              |\n",
    "| Boogie Nights (1997)              | 4.08       | 39           | 1.0              |\n",
    "| Stardust Memories (1980)          | 3.60       | 5            | 1.0              |\n",
    "| Perfect Blue (1997)               | 4.20       | 5            | 1.0              |\n",
    "| Harvey (1950)                     | 3.83       | 12           | 1.0              |\n",
    "\n",
    "#### 🧠 Observations:\n",
    "\n",
    "- All recommendations have a **similarity score of 1.0**, indicating **exact text matches**, likely due to similar genres or title terms.\n",
    "- Some recommended movies seem **unrelated** to *Toy Story* thematically.\n",
    "- TF-IDF can **overfit to surface-level text**, missing deeper semantic connections.\n",
    "\n",
    "---\n",
    "\n",
    "### 📙 Method 2: Embedding-Based Recommendation\n",
    "\n",
    "The recommendations using dense embedding vectors are:\n",
    "\n",
    "| Title                                   | Avg Rating | Num Ratings | Similarity Score |\n",
    "|----------------------------------------|------------|--------------|------------------|\n",
    "| Man from Snowy River, The (1982)       | 3.38       | 4            | 0.753            |\n",
    "| Polytechnique (2009)                   | 1.50       | 1            | 0.749            |\n",
    "| Guest from the Future (1985)           | 4.00       | 1            | 0.542            |\n",
    "| Garfield's Pet Force (2009)            | 5.00       | 1            | 0.483            |\n",
    "| Kinky Boots (2005)                     | 3.75       | 4            | 0.480            |\n",
    "\n",
    "#### 🧠 Observations:\n",
    "\n",
    "- Similarity scores are **more nuanced**, ranging between 0.48 and 0.75.\n",
    "- Some recommendations (e.g., *Garfield's Pet Force*) are **more thematically similar** to *Toy Story*.\n",
    "- Embeddings can **capture semantic meaning**, but also need high-quality input features like plot summaries for best performance.\n",
    "\n",
    "---\n",
    "\n",
    "### 📊 Conclusion\n",
    "\n",
    "| Criteria           | TF-IDF                      | Embeddings                   |\n",
    "|-------------------|-----------------------------|------------------------------|\n",
    "| Similarity Scores | All 1.0 (hard match)         | Gradual (0.48–0.75)          |\n",
    "| Text Sensitivity  | High (exact word match)      | Moderate (semantic match)    |\n",
    "| Thematic Relevance| Sometimes poor               | Generally better             |\n",
    "| Diversity         | Low                          | Medium                       |\n",
    "\n",
    "✅ **TF-IDF** is fast and simple but may **overfit to keywords**.  \n",
    "✅ **Embeddings** offer better **semantic relevance**, especially with rich features.\n",
    "\n",
    "---\n",
    "\n",
    "### 🚀 Future Improvements:\n",
    "- Add plot descriptions or movie tags for richer embeddings.\n",
    "- Filter low-rated or low-rating-count movies.\n",
    "- Explore hybrid models (content + collaborative).\n"
   ]
  },
  {
   "cell_type": "code",
   "execution_count": 6,
   "id": "fe9a33f1",
   "metadata": {},
   "outputs": [],
   "source": [
    "# User Based Collaborative Filtering"
   ]
  },
  {
   "cell_type": "code",
   "execution_count": 7,
   "id": "8917b3ef",
   "metadata": {},
   "outputs": [
    {
     "name": "stdout",
     "output_type": "stream",
     "text": [
      "📥 Loading ratings and metadata...\n",
      "🧱 Creating user-item matrix...\n",
      "🧠 Computing user-user cosine similarity...\n",
      "✅ User-based CF model is ready.\n"
     ]
    },
    {
     "data": {
      "text/html": [
       "<div>\n",
       "<style scoped>\n",
       "    .dataframe tbody tr th:only-of-type {\n",
       "        vertical-align: middle;\n",
       "    }\n",
       "\n",
       "    .dataframe tbody tr th {\n",
       "        vertical-align: top;\n",
       "    }\n",
       "\n",
       "    .dataframe thead th {\n",
       "        text-align: right;\n",
       "    }\n",
       "</style>\n",
       "<table border=\"1\" class=\"dataframe\">\n",
       "  <thead>\n",
       "    <tr style=\"text-align: right;\">\n",
       "      <th></th>\n",
       "      <th>movieId</th>\n",
       "      <th>title</th>\n",
       "      <th>avg_ratings</th>\n",
       "      <th>num_ratings</th>\n",
       "      <th>predicted_rating</th>\n",
       "    </tr>\n",
       "  </thead>\n",
       "  <tbody>\n",
       "    <tr>\n",
       "      <th>1939</th>\n",
       "      <td>2571</td>\n",
       "      <td>Matrix, The (1999)</td>\n",
       "      <td>4.192446</td>\n",
       "      <td>278.0</td>\n",
       "      <td>2.901568</td>\n",
       "    </tr>\n",
       "    <tr>\n",
       "      <th>314</th>\n",
       "      <td>356</td>\n",
       "      <td>Forrest Gump (1994)</td>\n",
       "      <td>4.164134</td>\n",
       "      <td>329.0</td>\n",
       "      <td>2.841191</td>\n",
       "    </tr>\n",
       "    <tr>\n",
       "      <th>2226</th>\n",
       "      <td>2959</td>\n",
       "      <td>Fight Club (1999)</td>\n",
       "      <td>4.272936</td>\n",
       "      <td>218.0</td>\n",
       "      <td>2.773398</td>\n",
       "    </tr>\n",
       "    <tr>\n",
       "      <th>257</th>\n",
       "      <td>296</td>\n",
       "      <td>Pulp Fiction (1994)</td>\n",
       "      <td>4.197068</td>\n",
       "      <td>307.0</td>\n",
       "      <td>2.533788</td>\n",
       "    </tr>\n",
       "    <tr>\n",
       "      <th>510</th>\n",
       "      <td>593</td>\n",
       "      <td>Silence of the Lambs, The (1991)</td>\n",
       "      <td>4.161290</td>\n",
       "      <td>279.0</td>\n",
       "      <td>2.289751</td>\n",
       "    </tr>\n",
       "  </tbody>\n",
       "</table>\n",
       "</div>"
      ],
      "text/plain": [
       "      movieId                             title  avg_ratings  num_ratings  \\\n",
       "1939     2571                Matrix, The (1999)     4.192446        278.0   \n",
       "314       356               Forrest Gump (1994)     4.164134        329.0   \n",
       "2226     2959                 Fight Club (1999)     4.272936        218.0   \n",
       "257       296               Pulp Fiction (1994)     4.197068        307.0   \n",
       "510       593  Silence of the Lambs, The (1991)     4.161290        279.0   \n",
       "\n",
       "      predicted_rating  \n",
       "1939          2.901568  \n",
       "314           2.841191  \n",
       "2226          2.773398  \n",
       "257           2.533788  \n",
       "510           2.289751  "
      ]
     },
     "execution_count": 7,
     "metadata": {},
     "output_type": "execute_result"
    }
   ],
   "source": [
    "cf = UserBasedCF(\n",
    "    ratings_path=r\"C:\\Users\\sarva\\MoviePulse\\data\\processed\\ratings_cleans.csv\",\n",
    "    metadata_path=r\"C:\\Users\\sarva\\MoviePulse\\data\\processed\\movie_feature.csv\"\n",
    ")\n",
    "\n",
    "cf.run()\n",
    "cf.recommend(user_id=2, top_n=5, return_scores=True)\n"
   ]
  },
  {
   "cell_type": "code",
   "execution_count": 8,
   "id": "a55f50e2",
   "metadata": {},
   "outputs": [],
   "source": [
    "Item_cf = ItemBasedCF(\n",
    "    ratings_path=r\"C:\\Users\\sarva\\MoviePulse\\data\\processed\\ratings_cleans.csv\",\n",
    "    metadata_path=r\"C:\\Users\\sarva\\MoviePulse\\data\\processed\\movie_feature.csv\"\n",
    ")   "
   ]
  },
  {
   "cell_type": "code",
   "execution_count": 9,
   "id": "0f74a42a",
   "metadata": {},
   "outputs": [
    {
     "name": "stdout",
     "output_type": "stream",
     "text": [
      "Loading ratings and metadata...\n",
      "Creating user-item matrix...\n",
      "Computing item-item cosine similarity...\n",
      "Item-based CF model is ready.\n"
     ]
    },
    {
     "data": {
      "text/html": [
       "<div>\n",
       "<style scoped>\n",
       "    .dataframe tbody tr th:only-of-type {\n",
       "        vertical-align: middle;\n",
       "    }\n",
       "\n",
       "    .dataframe tbody tr th {\n",
       "        vertical-align: top;\n",
       "    }\n",
       "\n",
       "    .dataframe thead th {\n",
       "        text-align: right;\n",
       "    }\n",
       "</style>\n",
       "<table border=\"1\" class=\"dataframe\">\n",
       "  <thead>\n",
       "    <tr style=\"text-align: right;\">\n",
       "      <th></th>\n",
       "      <th>movieId</th>\n",
       "      <th>title</th>\n",
       "      <th>avg_ratings</th>\n",
       "      <th>num_ratings</th>\n",
       "      <th>predicted_rating</th>\n",
       "    </tr>\n",
       "  </thead>\n",
       "  <tbody>\n",
       "    <tr>\n",
       "      <th>1939</th>\n",
       "      <td>2571</td>\n",
       "      <td>Matrix, The (1999)</td>\n",
       "      <td>4.192446</td>\n",
       "      <td>278.0</td>\n",
       "      <td>2.901568</td>\n",
       "    </tr>\n",
       "    <tr>\n",
       "      <th>314</th>\n",
       "      <td>356</td>\n",
       "      <td>Forrest Gump (1994)</td>\n",
       "      <td>4.164134</td>\n",
       "      <td>329.0</td>\n",
       "      <td>2.841191</td>\n",
       "    </tr>\n",
       "    <tr>\n",
       "      <th>2226</th>\n",
       "      <td>2959</td>\n",
       "      <td>Fight Club (1999)</td>\n",
       "      <td>4.272936</td>\n",
       "      <td>218.0</td>\n",
       "      <td>2.773398</td>\n",
       "    </tr>\n",
       "    <tr>\n",
       "      <th>257</th>\n",
       "      <td>296</td>\n",
       "      <td>Pulp Fiction (1994)</td>\n",
       "      <td>4.197068</td>\n",
       "      <td>307.0</td>\n",
       "      <td>2.533788</td>\n",
       "    </tr>\n",
       "    <tr>\n",
       "      <th>510</th>\n",
       "      <td>593</td>\n",
       "      <td>Silence of the Lambs, The (1991)</td>\n",
       "      <td>4.161290</td>\n",
       "      <td>279.0</td>\n",
       "      <td>2.289751</td>\n",
       "    </tr>\n",
       "  </tbody>\n",
       "</table>\n",
       "</div>"
      ],
      "text/plain": [
       "      movieId                             title  avg_ratings  num_ratings  \\\n",
       "1939     2571                Matrix, The (1999)     4.192446        278.0   \n",
       "314       356               Forrest Gump (1994)     4.164134        329.0   \n",
       "2226     2959                 Fight Club (1999)     4.272936        218.0   \n",
       "257       296               Pulp Fiction (1994)     4.197068        307.0   \n",
       "510       593  Silence of the Lambs, The (1991)     4.161290        279.0   \n",
       "\n",
       "      predicted_rating  \n",
       "1939          2.901568  \n",
       "314           2.841191  \n",
       "2226          2.773398  \n",
       "257           2.533788  \n",
       "510           2.289751  "
      ]
     },
     "execution_count": 9,
     "metadata": {},
     "output_type": "execute_result"
    }
   ],
   "source": [
    "Item_cf.run()\n",
    "cf.recommend(user_id=2, top_n=5, return_scores=True)"
   ]
  },
  {
   "cell_type": "code",
   "execution_count": null,
   "id": "a6c04db1",
   "metadata": {},
   "outputs": [],
   "source": []
  },
  {
   "cell_type": "code",
   "execution_count": 10,
   "id": "0d91784c",
   "metadata": {},
   "outputs": [
    {
     "name": "stdout",
     "output_type": "stream",
     "text": [
      "Loading ratings and metadata...\n",
      "Creating user-item matrix...\n",
      "Computing user-user similarity...\n",
      "Computing item-item similarity...\n",
      "Loading TF-IDF content vectors...\n",
      "Recommender system initialized.\n"
     ]
    }
   ],
   "source": [
    "from src.recommenders.recommender_system import RecommenderSystem\n",
    "\n",
    "recommender = RecommenderSystem(\n",
    "    ratings_path=r\"C:\\Users\\sarva\\MoviePulse\\data\\processed\\ratings_cleans.csv\",\n",
    "    metadata_path=r\"C:\\Users\\sarva\\MoviePulse\\data\\processed\\movie_feature.csv\",\n",
    "    tfidf_path=r\"C:\\Users\\sarva\\MoviePulse\\data\\Features\\tfidf_matrix.npz\",\n",
    "    tfidf_index_path=r\"C:\\Users\\sarva\\MoviePulse\\data\\Features\\tfidf_sample.csv\"\n",
    ")\n",
    "\n",
    "recommender.run_all()\n",
    "\n"
   ]
  },
  {
   "cell_type": "code",
   "execution_count": 11,
   "id": "05c3435f",
   "metadata": {},
   "outputs": [
    {
     "name": "stdout",
     "output_type": "stream",
     "text": [
      "User's relevant rated movies: [11.0, 13.0, 14.0, 15.0, 28.0, 73.0, 85.0, 87.0, 89.0, 97.0, 98.0, 100.0, 104.0, 105.0, 106.0, 115.0, 123.0, 137.0, 138.0, 143.0, 162.0, 185.0, 196.0, 197.0, 218.0, 244.0, 252.0, 253.0, 268.0, 274.0, 275.0, 329.0, 348.0, 402.0, 424.0, 479.0, 482.0, 492.0, 497.0, 500.0, 522.0, 525.0, 526.0, 550.0, 581.0, 583.0, 600.0, 601.0, 603.0, 617.0, 620.0, 624.0, 629.0, 630.0, 646.0, 651.0, 653.0, 657.0, 658.0, 660.0, 682.0, 754.0, 756.0, 762.0, 769.0, 792.0, 801.0, 807.0, 816.0, 820.0, 847.0, 854.0, 856.0, 857.0, 861.0, 862.0, 871.0, 879.0, 881.0, 941.0, 949.0, 957.0, 1366.0, 1497.0, 1499.0, 1542.0, 1654.0, 1701.0, 1775.0, 1832.0, 1857.0, 1880.0, 1891.0, 1892.0, 1893.0, 1911.0, 1924.0, 2109.0, 2118.0, 2280.0, 2493.0, 2649.0, 2756.0, 3034.0, 3035.0, 3063.0, 3083.0, 3109.0, 3170.0, 4011.0, 4234.0, 4978.0, 5503.0, 5548.0, 6396.0, 6970.0, 6978.0, 8009.0, 8068.0, 8388.0, 8467.0, 8536.0, 8592.0, 8741.0, 8810.0, 8872.0, 9078.0, 9285.0, 9289.0, 9325.0, 9326.0, 9331.0, 9340.0, 9354.0, 9387.0, 9430.0, 9434.0, 9437.0, 9473.0, 9571.0, 9591.0, 9631.0, 9659.0, 9671.0, 9798.0, 9802.0, 9994.0, 10029.0, 10047.0, 10057.0, 10122.0, 10218.0, 10249.0, 10276.0, 10386.0, 10442.0, 10539.0, 10586.0, 10658.0, 10705.0, 10714.0, 10882.0, 10895.0, 10907.0, 10957.0, 11003.0, 11017.0, 11072.0, 11319.0, 11360.0, 11363.0, 11381.0, 11520.0, 11527.0, 11545.0, 11551.0, 11704.0, 11780.0, 11886.0, 11969.0, 11976.0, 12092.0, 12104.0, 12335.0, 13597.0, 13666.0, 13685.0, 13850.0, 15171.0, 15602.0, 15947.0, 19952.0, 22292.0, 30497.0, 34584.0, 36657.0, 42518.0, 42807.0, 81310.0, 111794.0]\n",
      "Recommended movies:       movieId                                              title  \\\n",
      "507       589                  Terminator 2: Judgment Day (1991)   \n",
      "2195     2918                    Ferris Bueller's Day Off (1986)   \n",
      "277       318                   Shawshank Redemption, The (1994)   \n",
      "2355     3114                                 Toy Story 2 (1999)   \n",
      "905      1203                                12 Angry Men (1957)   \n",
      "455       520                   Robin Hood: Men in Tights (1993)   \n",
      "4800     7153  Lord of the Rings: The Return of the King, The...   \n",
      "4526     6708                              Matchstick Men (2003)   \n",
      "4568     6787                     All the President's Men (1976)   \n",
      "1284     1704                           Good Will Hunting (1997)   \n",
      "\n",
      "                                                 genres  imdbId  tmdbId  \\\n",
      "507                                ['Action', 'Sci-Fi']  103064   280.0   \n",
      "2195                                         ['Comedy']   91042  9377.0   \n",
      "277                                  ['Crime', 'Drama']  111161   278.0   \n",
      "2355  ['Adventure', 'Animation', 'Children', 'Comedy...  120363   863.0   \n",
      "905                                           ['Drama']   50083   389.0   \n",
      "455                                          ['Comedy']  107977  8005.0   \n",
      "4800        ['Action', 'Adventure', 'Drama', 'Fantasy']  167260   122.0   \n",
      "4526                       ['Comedy', 'Crime', 'Drama']  325805  7270.0   \n",
      "4568                              ['Drama', 'Thriller']   74119   891.0   \n",
      "1284                               ['Drama', 'Romance']  119217   489.0   \n",
      "\n",
      "      genre_count main_genre  avg_ratings  num_ratings  hybrid_score  \n",
      "507             2     Action     3.970982        224.0      0.820275  \n",
      "2195            1     Comedy     3.839450        109.0      0.677666  \n",
      "277             2      Crime     4.429022        317.0      0.663321  \n",
      "2355            5  Adventure     3.860825         97.0      0.641618  \n",
      "905             1      Drama     4.149123         57.0      0.636036  \n",
      "455             1     Comedy     3.130435         69.0      0.615839  \n",
      "4800            4     Action     4.118919        185.0      0.615062  \n",
      "4526            3     Comedy     3.720588         34.0      0.602476  \n",
      "4568            2      Drama     4.018519         27.0      0.594498  \n",
      "1284            2      Drama     4.078014        141.0      0.593809  \n"
     ]
    }
   ],
   "source": [
    "user_id = 1  # or whichever user was used\n",
    "\n",
    "# Recommended movies\n",
    "recommended = recommender.recommend_hybrid(user_id=user_id, top_n=10)\n",
    "\n",
    "# Get actual ratings given by the user\n",
    "user_ratings = recommender.user_item_matrix.loc[user_id]\n",
    "rated_movies = user_ratings[user_ratings >= 4.0].index.tolist()\n",
    "\n",
    "print(\"User's relevant rated movies:\", rated_movies)\n",
    "print(\"Recommended movies:\", recommended)"
   ]
  },
  {
   "cell_type": "code",
   "execution_count": 12,
   "id": "6f5f0d85",
   "metadata": {},
   "outputs": [],
   "source": [
    "from src.Evaluate.Evaluate_hybrid import evaluate_model\n"
   ]
  },
  {
   "cell_type": "code",
   "execution_count": 13,
   "id": "b5b21101",
   "metadata": {},
   "outputs": [
    {
     "name": "stdout",
     "output_type": "stream",
     "text": [
      "{'Precision@K': 0.0, 'Recall@K': 0.0, 'Users Evaluated': 50, 'Alpha (User-CF)': 0.4, 'Beta (Item-CF)': 0.3, 'Gamma (Content)': 0.3}\n"
     ]
    }
   ],
   "source": [
    "metrics = evaluate_model(model=recommender, k=10, sample_size=50)\n",
    "print(metrics)"
   ]
  },
  {
   "cell_type": "code",
   "execution_count": 7,
   "id": "ad7b99bb",
   "metadata": {},
   "outputs": [],
   "source": [
    "ratings_df = pd.read_csv(ratings_path)"
   ]
  },
  {
   "cell_type": "code",
   "execution_count": null,
   "id": "e8c6e747",
   "metadata": {},
   "outputs": [
    {
     "name": "stdout",
     "output_type": "stream",
     "text": [
      "Evaluating 50 users with hold-out (test_ratio=0.2, top@10)\n"
     ]
    },
    {
     "name": "stderr",
     "output_type": "stream",
     "text": [
      " 98%|█████████▊| 49/50 [00:07<00:00,  6.30it/s]"
     ]
    },
    {
     "name": "stdout",
     "output_type": "stream",
     "text": [
      "\n",
      "Evaluation Summary:\n",
      "Precision@K: 0.1940\n",
      "Recall@K: 0.1279\n",
      "NDCG@K: 0.2393\n",
      "Users Evaluated: 50\n",
      "{'Precision@K': 0.19399999999999998, 'Recall@K': 0.1278599528205986, 'NDCG@K': 0.23929887759304677, 'Users Evaluated': 50}\n"
     ]
    },
    {
     "name": "stderr",
     "output_type": "stream",
     "text": [
      "\n"
     ]
    }
   ],
   "source": [
    "from src.Evaluate.Evaluate_holdout import evaluate_holdout\n",
    "\n",
    "\n",
    "metrics = evaluate_holdout(model=recommender, ratings_df=ratings_df, k=10, users_to_evaluate=50)\n",
    "print(metrics)\n"
   ]
  },
  {
   "cell_type": "code",
   "execution_count": 8,
   "id": "494459e1",
   "metadata": {},
   "outputs": [],
   "source": [
    "user_id = ratings_df['userId'].value_counts().idxmax()"
   ]
  },
  {
   "cell_type": "code",
   "execution_count": 9,
   "id": "7563ab83",
   "metadata": {},
   "outputs": [
    {
     "name": "stdout",
     "output_type": "stream",
     "text": [
      "Loading ratings and metadata...\n",
      "Creating user-item matrix...\n",
      "Computing user-user similarity...\n",
      "Computing item-item similarity...\n",
      "Loading TF-IDF content vectors...\n",
      "Recommender system initialized.\n"
     ]
    }
   ],
   "source": [
    "Rs = RecommenderSystem(\n",
    "    ratings_path=ratings_path,\n",
    "    metadata_path=metadata_path,\n",
    "    tfidf_path=tfidf_path,\n",
    "    tfidf_index_path=tfidf_index_path\n",
    ")\n",
    "\n",
    "Rs.run_all()"
   ]
  },
  {
   "cell_type": "code",
   "execution_count": 11,
   "id": "b05a3045",
   "metadata": {},
   "outputs": [
    {
     "data": {
      "text/html": [
       "<div>\n",
       "<style scoped>\n",
       "    .dataframe tbody tr th:only-of-type {\n",
       "        vertical-align: middle;\n",
       "    }\n",
       "\n",
       "    .dataframe tbody tr th {\n",
       "        vertical-align: top;\n",
       "    }\n",
       "\n",
       "    .dataframe thead th {\n",
       "        text-align: right;\n",
       "    }\n",
       "</style>\n",
       "<table border=\"1\" class=\"dataframe\">\n",
       "  <thead>\n",
       "    <tr style=\"text-align: right;\">\n",
       "      <th></th>\n",
       "      <th>movieId</th>\n",
       "      <th>title</th>\n",
       "      <th>genres</th>\n",
       "      <th>imdbId</th>\n",
       "      <th>tmdbId</th>\n",
       "      <th>genre_count</th>\n",
       "      <th>main_genre</th>\n",
       "      <th>avg_ratings</th>\n",
       "      <th>num_ratings</th>\n",
       "      <th>predicted_rating</th>\n",
       "    </tr>\n",
       "  </thead>\n",
       "  <tbody>\n",
       "    <tr>\n",
       "      <th>957</th>\n",
       "      <td>1258</td>\n",
       "      <td>Shining, The (1980)</td>\n",
       "      <td>['Horror']</td>\n",
       "      <td>81505</td>\n",
       "      <td>694.0</td>\n",
       "      <td>1</td>\n",
       "      <td>Horror</td>\n",
       "      <td>4.082569</td>\n",
       "      <td>109.0</td>\n",
       "      <td>1.157097</td>\n",
       "    </tr>\n",
       "    <tr>\n",
       "      <th>5166</th>\n",
       "      <td>8368</td>\n",
       "      <td>Harry Potter and the Prisoner of Azkaban (2004)</td>\n",
       "      <td>['Adventure', 'Fantasy', 'IMAX']</td>\n",
       "      <td>304141</td>\n",
       "      <td>673.0</td>\n",
       "      <td>3</td>\n",
       "      <td>Adventure</td>\n",
       "      <td>3.913978</td>\n",
       "      <td>93.0</td>\n",
       "      <td>0.929902</td>\n",
       "    </tr>\n",
       "    <tr>\n",
       "      <th>920</th>\n",
       "      <td>1219</td>\n",
       "      <td>Psycho (1960)</td>\n",
       "      <td>['Crime', 'Horror']</td>\n",
       "      <td>54215</td>\n",
       "      <td>539.0</td>\n",
       "      <td>2</td>\n",
       "      <td>Crime</td>\n",
       "      <td>4.036145</td>\n",
       "      <td>83.0</td>\n",
       "      <td>0.893492</td>\n",
       "    </tr>\n",
       "    <tr>\n",
       "      <th>1730</th>\n",
       "      <td>2324</td>\n",
       "      <td>Life Is Beautiful (La Vita è bella) (1997)</td>\n",
       "      <td>['Comedy', 'Drama', 'Romance', 'War']</td>\n",
       "      <td>118799</td>\n",
       "      <td>637.0</td>\n",
       "      <td>4</td>\n",
       "      <td>Comedy</td>\n",
       "      <td>4.147727</td>\n",
       "      <td>88.0</td>\n",
       "      <td>0.851408</td>\n",
       "    </tr>\n",
       "    <tr>\n",
       "      <th>7258</th>\n",
       "      <td>74458</td>\n",
       "      <td>Shutter Island (2010)</td>\n",
       "      <td>['Drama', 'Mystery', 'Thriller']</td>\n",
       "      <td>1130884</td>\n",
       "      <td>11324.0</td>\n",
       "      <td>3</td>\n",
       "      <td>Drama</td>\n",
       "      <td>4.022388</td>\n",
       "      <td>67.0</td>\n",
       "      <td>0.634130</td>\n",
       "    </tr>\n",
       "  </tbody>\n",
       "</table>\n",
       "</div>"
      ],
      "text/plain": [
       "      movieId                                            title  \\\n",
       "957      1258                              Shining, The (1980)   \n",
       "5166     8368  Harry Potter and the Prisoner of Azkaban (2004)   \n",
       "920      1219                                    Psycho (1960)   \n",
       "1730     2324       Life Is Beautiful (La Vita è bella) (1997)   \n",
       "7258    74458                            Shutter Island (2010)   \n",
       "\n",
       "                                     genres   imdbId   tmdbId  genre_count  \\\n",
       "957                              ['Horror']    81505    694.0            1   \n",
       "5166       ['Adventure', 'Fantasy', 'IMAX']   304141    673.0            3   \n",
       "920                     ['Crime', 'Horror']    54215    539.0            2   \n",
       "1730  ['Comedy', 'Drama', 'Romance', 'War']   118799    637.0            4   \n",
       "7258       ['Drama', 'Mystery', 'Thriller']  1130884  11324.0            3   \n",
       "\n",
       "     main_genre  avg_ratings  num_ratings  predicted_rating  \n",
       "957      Horror     4.082569        109.0          1.157097  \n",
       "5166  Adventure     3.913978         93.0          0.929902  \n",
       "920       Crime     4.036145         83.0          0.893492  \n",
       "1730     Comedy     4.147727         88.0          0.851408  \n",
       "7258      Drama     4.022388         67.0          0.634130  "
      ]
     },
     "execution_count": 11,
     "metadata": {},
     "output_type": "execute_result"
    }
   ],
   "source": [
    "recs = Rs.recommend_user_based(user_id=user_id, top_n=10)\n",
    "recs.head()\n"
   ]
  },
  {
   "cell_type": "code",
   "execution_count": null,
   "id": "6dc438d8",
   "metadata": {},
   "outputs": [],
   "source": []
  }
 ],
 "metadata": {
  "kernelspec": {
   "display_name": "moviepulse",
   "language": "python",
   "name": "python3"
  },
  "language_info": {
   "codemirror_mode": {
    "name": "ipython",
    "version": 3
   },
   "file_extension": ".py",
   "mimetype": "text/x-python",
   "name": "python",
   "nbconvert_exporter": "python",
   "pygments_lexer": "ipython3",
   "version": "3.8.20"
  }
 },
 "nbformat": 4,
 "nbformat_minor": 5
}
