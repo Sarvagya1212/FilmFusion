{
 "cells": [
  {
   "cell_type": "code",
   "execution_count": null,
   "id": "edb35357",
   "metadata": {},
   "outputs": [],
   "source": [
    "import sys\n",
    "import os\n",
    "\n",
    "sys.path.append(os.path.abspath('../src'))\n",
    "\n",
    "from data.load_data import load_movielens\n",
    "import pandas as pd\n"
   ]
  },
  {
   "cell_type": "code",
   "execution_count": 2,
   "id": "2f3f886a",
   "metadata": {},
   "outputs": [],
   "source": [
    "data = load_movielens()"
   ]
  },
  {
   "cell_type": "code",
   "execution_count": 3,
   "id": "3494bc18",
   "metadata": {},
   "outputs": [
    {
     "data": {
      "text/html": [
       "<div>\n",
       "<style scoped>\n",
       "    .dataframe tbody tr th:only-of-type {\n",
       "        vertical-align: middle;\n",
       "    }\n",
       "\n",
       "    .dataframe tbody tr th {\n",
       "        vertical-align: top;\n",
       "    }\n",
       "\n",
       "    .dataframe thead th {\n",
       "        text-align: right;\n",
       "    }\n",
       "</style>\n",
       "<table border=\"1\" class=\"dataframe\">\n",
       "  <thead>\n",
       "    <tr style=\"text-align: right;\">\n",
       "      <th></th>\n",
       "      <th>userId</th>\n",
       "      <th>movieId</th>\n",
       "      <th>rating</th>\n",
       "      <th>timestamp</th>\n",
       "    </tr>\n",
       "  </thead>\n",
       "  <tbody>\n",
       "    <tr>\n",
       "      <th>0</th>\n",
       "      <td>1</td>\n",
       "      <td>1</td>\n",
       "      <td>4.0</td>\n",
       "      <td>964982703</td>\n",
       "    </tr>\n",
       "    <tr>\n",
       "      <th>1</th>\n",
       "      <td>1</td>\n",
       "      <td>3</td>\n",
       "      <td>4.0</td>\n",
       "      <td>964981247</td>\n",
       "    </tr>\n",
       "    <tr>\n",
       "      <th>2</th>\n",
       "      <td>1</td>\n",
       "      <td>6</td>\n",
       "      <td>4.0</td>\n",
       "      <td>964982224</td>\n",
       "    </tr>\n",
       "    <tr>\n",
       "      <th>3</th>\n",
       "      <td>1</td>\n",
       "      <td>47</td>\n",
       "      <td>5.0</td>\n",
       "      <td>964983815</td>\n",
       "    </tr>\n",
       "    <tr>\n",
       "      <th>4</th>\n",
       "      <td>1</td>\n",
       "      <td>50</td>\n",
       "      <td>5.0</td>\n",
       "      <td>964982931</td>\n",
       "    </tr>\n",
       "  </tbody>\n",
       "</table>\n",
       "</div>"
      ],
      "text/plain": [
       "   userId  movieId  rating  timestamp\n",
       "0       1        1     4.0  964982703\n",
       "1       1        3     4.0  964981247\n",
       "2       1        6     4.0  964982224\n",
       "3       1       47     5.0  964983815\n",
       "4       1       50     5.0  964982931"
      ]
     },
     "execution_count": 3,
     "metadata": {},
     "output_type": "execute_result"
    }
   ],
   "source": [
    "data['ratings'].head()"
   ]
  },
  {
   "cell_type": "code",
   "execution_count": 4,
   "id": "60ec6e0e",
   "metadata": {},
   "outputs": [
    {
     "data": {
      "text/html": [
       "<div>\n",
       "<style scoped>\n",
       "    .dataframe tbody tr th:only-of-type {\n",
       "        vertical-align: middle;\n",
       "    }\n",
       "\n",
       "    .dataframe tbody tr th {\n",
       "        vertical-align: top;\n",
       "    }\n",
       "\n",
       "    .dataframe thead th {\n",
       "        text-align: right;\n",
       "    }\n",
       "</style>\n",
       "<table border=\"1\" class=\"dataframe\">\n",
       "  <thead>\n",
       "    <tr style=\"text-align: right;\">\n",
       "      <th></th>\n",
       "      <th>movieId</th>\n",
       "      <th>title</th>\n",
       "      <th>genres</th>\n",
       "      <th>imdbId</th>\n",
       "      <th>tmdbId</th>\n",
       "    </tr>\n",
       "  </thead>\n",
       "  <tbody>\n",
       "    <tr>\n",
       "      <th>9678</th>\n",
       "      <td>183295</td>\n",
       "      <td>Insidious: The Last Key (2018)</td>\n",
       "      <td>Horror|Mystery|Thriller</td>\n",
       "      <td>5726086</td>\n",
       "      <td>406563.0</td>\n",
       "    </tr>\n",
       "    <tr>\n",
       "      <th>6895</th>\n",
       "      <td>63436</td>\n",
       "      <td>Saw V (2008)</td>\n",
       "      <td>Crime|Horror|Thriller</td>\n",
       "      <td>1132626</td>\n",
       "      <td>11917.0</td>\n",
       "    </tr>\n",
       "    <tr>\n",
       "      <th>4692</th>\n",
       "      <td>7005</td>\n",
       "      <td>King Ralph (1991)</td>\n",
       "      <td>Comedy</td>\n",
       "      <td>102216</td>\n",
       "      <td>10804.0</td>\n",
       "    </tr>\n",
       "    <tr>\n",
       "      <th>4875</th>\n",
       "      <td>7305</td>\n",
       "      <td>Black Widow (1987)</td>\n",
       "      <td>Crime|Drama|Mystery|Thriller</td>\n",
       "      <td>90738</td>\n",
       "      <td>19345.0</td>\n",
       "    </tr>\n",
       "    <tr>\n",
       "      <th>353</th>\n",
       "      <td>408</td>\n",
       "      <td>8 Seconds (1994)</td>\n",
       "      <td>Drama</td>\n",
       "      <td>109021</td>\n",
       "      <td>18069.0</td>\n",
       "    </tr>\n",
       "  </tbody>\n",
       "</table>\n",
       "</div>"
      ],
      "text/plain": [
       "      movieId                           title                        genres  \\\n",
       "9678   183295  Insidious: The Last Key (2018)       Horror|Mystery|Thriller   \n",
       "6895    63436                    Saw V (2008)         Crime|Horror|Thriller   \n",
       "4692     7005               King Ralph (1991)                        Comedy   \n",
       "4875     7305              Black Widow (1987)  Crime|Drama|Mystery|Thriller   \n",
       "353       408                8 Seconds (1994)                         Drama   \n",
       "\n",
       "       imdbId    tmdbId  \n",
       "9678  5726086  406563.0  \n",
       "6895  1132626   11917.0  \n",
       "4692   102216   10804.0  \n",
       "4875    90738   19345.0  \n",
       "353    109021   18069.0  "
      ]
     },
     "execution_count": 4,
     "metadata": {},
     "output_type": "execute_result"
    }
   ],
   "source": [
    "data[\"movies_merge\"].sample(5)"
   ]
  },
  {
   "cell_type": "code",
   "execution_count": 5,
   "id": "73cb25e5",
   "metadata": {},
   "outputs": [],
   "source": [
    "df = data[\"movies_merge\"]\n",
    "df['genres'] = df['genres'].str.split('|')\n",
    "\n",
    "ratings = data['ratings']    \n",
    "ratings['timestamp']  = pd.to_datetime(ratings['timestamp'] , unit='s')"
   ]
  },
  {
   "cell_type": "code",
   "execution_count": 6,
   "id": "9157931a",
   "metadata": {},
   "outputs": [],
   "source": [
    "df.to_csv(r\"C:\\Users\\sarva\\MoviePulse\\data\\processed\\movies_clean.csv\", index=False)\n",
    "ratings.to_csv(r\"C:\\Users\\sarva\\MoviePulse\\data\\processed\\ratings_clean.csv\", index=False)\n"
   ]
  },
  {
   "cell_type": "code",
   "execution_count": null,
   "id": "00788f57",
   "metadata": {},
   "outputs": [],
   "source": []
  }
 ],
 "metadata": {
  "kernelspec": {
   "display_name": "moviepulse",
   "language": "python",
   "name": "python3"
  },
  "language_info": {
   "codemirror_mode": {
    "name": "ipython",
    "version": 3
   },
   "file_extension": ".py",
   "mimetype": "text/x-python",
   "name": "python",
   "nbconvert_exporter": "python",
   "pygments_lexer": "ipython3",
   "version": "3.8.20"
  }
 },
 "nbformat": 4,
 "nbformat_minor": 5
}
