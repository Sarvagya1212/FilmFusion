{
 "cells": [
  {
   "cell_type": "code",
   "execution_count": 7,
   "id": "edb35357",
   "metadata": {},
   "outputs": [],
   "source": [
    "import sys\n",
    "import os\n",
    "\n",
    "sys.path.append(os.path.abspath('..'))\n",
    "\n",
    "from src.data.load_data import load_movielens\n",
    "import pandas as pd\n"
   ]
  },
  {
   "cell_type": "code",
   "execution_count": 3,
   "id": "2f3f886a",
   "metadata": {},
   "outputs": [],
   "source": [
    "data = load_movielens()"
   ]
  },
  {
   "cell_type": "code",
   "execution_count": 4,
   "id": "3494bc18",
   "metadata": {},
   "outputs": [
    {
     "data": {
      "text/html": [
       "<div>\n",
       "<style scoped>\n",
       "    .dataframe tbody tr th:only-of-type {\n",
       "        vertical-align: middle;\n",
       "    }\n",
       "\n",
       "    .dataframe tbody tr th {\n",
       "        vertical-align: top;\n",
       "    }\n",
       "\n",
       "    .dataframe thead th {\n",
       "        text-align: right;\n",
       "    }\n",
       "</style>\n",
       "<table border=\"1\" class=\"dataframe\">\n",
       "  <thead>\n",
       "    <tr style=\"text-align: right;\">\n",
       "      <th></th>\n",
       "      <th>userId</th>\n",
       "      <th>movieId</th>\n",
       "      <th>rating</th>\n",
       "      <th>timestamp</th>\n",
       "    </tr>\n",
       "  </thead>\n",
       "  <tbody>\n",
       "    <tr>\n",
       "      <th>0</th>\n",
       "      <td>1</td>\n",
       "      <td>1</td>\n",
       "      <td>4.0</td>\n",
       "      <td>964982703</td>\n",
       "    </tr>\n",
       "    <tr>\n",
       "      <th>1</th>\n",
       "      <td>1</td>\n",
       "      <td>3</td>\n",
       "      <td>4.0</td>\n",
       "      <td>964981247</td>\n",
       "    </tr>\n",
       "    <tr>\n",
       "      <th>2</th>\n",
       "      <td>1</td>\n",
       "      <td>6</td>\n",
       "      <td>4.0</td>\n",
       "      <td>964982224</td>\n",
       "    </tr>\n",
       "    <tr>\n",
       "      <th>3</th>\n",
       "      <td>1</td>\n",
       "      <td>47</td>\n",
       "      <td>5.0</td>\n",
       "      <td>964983815</td>\n",
       "    </tr>\n",
       "    <tr>\n",
       "      <th>4</th>\n",
       "      <td>1</td>\n",
       "      <td>50</td>\n",
       "      <td>5.0</td>\n",
       "      <td>964982931</td>\n",
       "    </tr>\n",
       "  </tbody>\n",
       "</table>\n",
       "</div>"
      ],
      "text/plain": [
       "   userId  movieId  rating  timestamp\n",
       "0       1        1     4.0  964982703\n",
       "1       1        3     4.0  964981247\n",
       "2       1        6     4.0  964982224\n",
       "3       1       47     5.0  964983815\n",
       "4       1       50     5.0  964982931"
      ]
     },
     "execution_count": 4,
     "metadata": {},
     "output_type": "execute_result"
    }
   ],
   "source": [
    "data['ratings'].head()"
   ]
  },
  {
   "cell_type": "code",
   "execution_count": 5,
   "id": "60ec6e0e",
   "metadata": {},
   "outputs": [
    {
     "data": {
      "text/html": [
       "<div>\n",
       "<style scoped>\n",
       "    .dataframe tbody tr th:only-of-type {\n",
       "        vertical-align: middle;\n",
       "    }\n",
       "\n",
       "    .dataframe tbody tr th {\n",
       "        vertical-align: top;\n",
       "    }\n",
       "\n",
       "    .dataframe thead th {\n",
       "        text-align: right;\n",
       "    }\n",
       "</style>\n",
       "<table border=\"1\" class=\"dataframe\">\n",
       "  <thead>\n",
       "    <tr style=\"text-align: right;\">\n",
       "      <th></th>\n",
       "      <th>movieId</th>\n",
       "      <th>title</th>\n",
       "      <th>genres</th>\n",
       "      <th>imdbId</th>\n",
       "      <th>tmdbId</th>\n",
       "    </tr>\n",
       "  </thead>\n",
       "  <tbody>\n",
       "    <tr>\n",
       "      <th>6634</th>\n",
       "      <td>56286</td>\n",
       "      <td>I'm Not There (2007)</td>\n",
       "      <td>Drama</td>\n",
       "      <td>368794</td>\n",
       "      <td>3902.0</td>\n",
       "    </tr>\n",
       "    <tr>\n",
       "      <th>6364</th>\n",
       "      <td>49735</td>\n",
       "      <td>Another Gay Movie (2006)</td>\n",
       "      <td>Comedy</td>\n",
       "      <td>443431</td>\n",
       "      <td>12795.0</td>\n",
       "    </tr>\n",
       "    <tr>\n",
       "      <th>2535</th>\n",
       "      <td>3395</td>\n",
       "      <td>Nadine (1987)</td>\n",
       "      <td>Comedy</td>\n",
       "      <td>93596</td>\n",
       "      <td>61178.0</td>\n",
       "    </tr>\n",
       "    <tr>\n",
       "      <th>2251</th>\n",
       "      <td>2988</td>\n",
       "      <td>Melvin and Howard (1980)</td>\n",
       "      <td>Drama</td>\n",
       "      <td>81150</td>\n",
       "      <td>38772.0</td>\n",
       "    </tr>\n",
       "    <tr>\n",
       "      <th>4413</th>\n",
       "      <td>6514</td>\n",
       "      <td>Ring of Terror (1962)</td>\n",
       "      <td>Horror</td>\n",
       "      <td>56415</td>\n",
       "      <td>113739.0</td>\n",
       "    </tr>\n",
       "  </tbody>\n",
       "</table>\n",
       "</div>"
      ],
      "text/plain": [
       "      movieId                     title  genres  imdbId    tmdbId\n",
       "6634    56286      I'm Not There (2007)   Drama  368794    3902.0\n",
       "6364    49735  Another Gay Movie (2006)  Comedy  443431   12795.0\n",
       "2535     3395             Nadine (1987)  Comedy   93596   61178.0\n",
       "2251     2988  Melvin and Howard (1980)   Drama   81150   38772.0\n",
       "4413     6514     Ring of Terror (1962)  Horror   56415  113739.0"
      ]
     },
     "execution_count": 5,
     "metadata": {},
     "output_type": "execute_result"
    }
   ],
   "source": [
    "data[\"movies_merge\"].sample(5)"
   ]
  },
  {
   "cell_type": "code",
   "execution_count": 6,
   "id": "73cb25e5",
   "metadata": {},
   "outputs": [],
   "source": [
    "df = data[\"movies_merge\"]\n",
    "df['genres'] = df['genres'].str.split('|')\n",
    "\n",
    "ratings = data['ratings']    \n",
    "ratings['timestamp']  = pd.to_datetime(ratings['timestamp'] , unit='s')"
   ]
  },
  {
   "cell_type": "code",
   "execution_count": 7,
   "id": "9157931a",
   "metadata": {},
   "outputs": [],
   "source": [
    "df.to_csv(r\"C:\\Users\\sarva\\MoviePulse\\data\\processed\\movies_clean.csv\", index=False)\n",
    "ratings.to_csv(r\"C:\\Users\\sarva\\MoviePulse\\data\\processed\\ratings_clean.csv\", index=False)\n"
   ]
  },
  {
   "cell_type": "code",
   "execution_count": 8,
   "id": "a52f9173",
   "metadata": {},
   "outputs": [],
   "source": [
    "movies = pd.read_csv(r\"C:\\Users\\sarva\\MoviePulse\\data\\processed\\movies_clean.csv\")\n",
    "tmdb_to_movie = dict(zip(movies['tmdbId'], movies['movieId']))\n"
   ]
  },
  {
   "cell_type": "code",
   "execution_count": 5,
   "id": "00788f57",
   "metadata": {},
   "outputs": [
    {
     "name": "stdout",
     "output_type": "stream",
     "text": [
      "Saved: data/processed/ratings_with_tmdb.csv\n"
     ]
    }
   ],
   "source": [
    "import pandas as pd\n",
    "\n",
    "ratings_df = pd.read_csv(r\"C:\\Users\\sarva\\MoviePulse\\data\\processed\\ratings_clean.csv\")\n",
    "metadata_df = pd.read_csv(r\"C:\\Users\\sarva\\MoviePulse\\data\\processed\\movie_feature.csv\")\n",
    "\n",
    "\n",
    "ratings_with_tmdb = pd.merge(ratings_df, metadata_df[['movieId', 'tmdbId']], on='movieId', how='left')\n",
    "\n",
    "\n",
    "ratings_with_tmdb = ratings_with_tmdb.dropna(subset=['tmdbId'])\n",
    "\n",
    "\n",
    "ratings_with_tmdb.to_csv(r'C:\\Users\\sarva\\MoviePulse\\data\\processed\\ratings_cleans.csv', index=False)\n",
    "\n",
    "print(\"Saved: data/processed/ratings_with_tmdb.csv\")\n"
   ]
  },
  {
   "cell_type": "code",
   "execution_count": 5,
   "id": "d0273369",
   "metadata": {},
   "outputs": [
    {
     "name": "stdout",
     "output_type": "stream",
     "text": [
      "Loading datasets...\n",
      " Datasets loaded successfully.\n"
     ]
    }
   ],
   "source": [
    "import pandas as pd\n",
    "import os\n",
    "\n",
    "main_metadata_path = r\"C:\\Users\\sarva\\MoviePulse\\data\\processed\\movies_metadata_full.csv\"\n",
    "\n",
    "poster_data_path = r\"C:\\Users\\sarva\\MoviePulse\\data\\processed\\posters_minimal.csv\"\n",
    "\n",
    "output_path = r\"C:\\Users\\sarva\\MoviePulse\\data\\processed\\movies_metadata_full.csv\"\n",
    "\n",
    "# --- 2. Load the Datasets ---\n",
    "print(\"Loading datasets...\")\n",
    "try:\n",
    "    main_df = pd.read_csv(main_metadata_path)\n",
    "    poster_df = pd.read_csv(poster_data_path)\n",
    "    print(\" Datasets loaded successfully.\")\n",
    "except FileNotFoundError as e:\n",
    "    print(f\" Error: {e}\")\n",
    "    print(\"Please make sure the file paths are correct and you've saved your poster data.\")\n",
    "\n",
    "\n"
   ]
  },
  {
   "cell_type": "code",
   "execution_count": 6,
   "id": "b56fc006",
   "metadata": {},
   "outputs": [
    {
     "name": "stdout",
     "output_type": "stream",
     "text": [
      "\n",
      "Merging the dataframes on 'tmdbId'...\n",
      " Merge complete.\n",
      "\n",
      "Preview of the final combined data:\n",
      "                         title   tmdbId                       poster_path\n",
      "0                    Toy Story    862.0  /uXDfjJbdP4ijW5hWSBrPrlKpxab.jpg\n",
      "1             Grumpier Old Men  15602.0  /1FSXpj5e8l4KH6nVFO5SPUeraOt.jpg\n",
      "2  Father of the Bride Part II  11862.0  /rj4LBtwQ0uGrpBnCELr716Qo3mw.jpg\n",
      "3            Waiting to Exhale  31357.0  /qJU6rfil5xLVb5HpJsmmfeSK254.jpg\n",
      "4                      Jumanji   8844.0  /p67m5dzwyxWd46a6of2c9IVfQz7.jpg\n",
      "\n",
      "Saving the final enriched file to: C:\\Users\\sarva\\MoviePulse\\data\\processed\\movies_metadata_full.csv\n",
      "All done! Your new file is ready.\n"
     ]
    }
   ],
   "source": [
    "print(\"\\nMerging the dataframes on 'tmdbId'...\")\n",
    "\n",
    "poster_columns_to_merge = ['tmdbId', 'poster_path'] \n",
    "\n",
    "\n",
    "enriched_df = pd.merge(main_df, poster_df[poster_columns_to_merge], on='tmdbId', how='left')\n",
    "\n",
    "print(\" Merge complete.\")\n",
    "print(\"\\nPreview of the final combined data:\")\n",
    "print(enriched_df[['title', 'tmdbId', 'poster_path']].head())\n",
    "\n",
    "\n",
    "print(f\"\\nSaving the final enriched file to: {output_path}\")\n",
    "enriched_df.to_csv(output_path, index=False)\n",
    "print(\"All done! Your new file is ready.\")"
   ]
  },
  {
   "cell_type": "code",
   "execution_count": null,
   "id": "11170121",
   "metadata": {},
   "outputs": [
    {
     "name": "stdout",
     "output_type": "stream",
     "text": [
      "Metadata columns: ['tmdbId', 'title', 'overview', 'tagline', 'genres', 'runtime', 'release_date', 'language', 'vote_average', 'vote_count', 'popularity', 'cast', 'crew', 'keywords', 'reviews', 'poster_path']\n",
      "Enriched columns: ['movieId', 'title', 'genres', 'imdbId', 'tmdbId', 'genre_count', 'main_genre', 'avg_ratings', 'num_ratings', 'compound', 'neg', 'neu', 'pos', 'num_reviews']\n",
      "Merged shape: (9734, 29)\n",
      " Merged data saved to: C:\\Users\\sarva\\MoviePulse\\data\\processed\\movies_metadata_enriched.csv\n"
     ]
    }
   ],
   "source": [
    "import pandas as pd\n",
    "\n",
    "metadata_path = r\"C:\\Users\\sarva\\MoviePulse\\data\\processed\\movies_metadata_full.csv\"\n",
    "enriched_path = r\"c:\\Users\\sarva\\MoviePulse\\data\\processed\\movie_feature_enriched.csv\"\n",
    "\n",
    "df_meta = pd.read_csv(metadata_path)\n",
    "df_enriched = pd.read_csv(enriched_path)\n",
    "\n",
    "\n",
    "print(\"Metadata columns:\", df_meta.columns.tolist())\n",
    "print(\"Enriched columns:\", df_enriched.columns.tolist())\n",
    "\n",
    "if 'tmdbId' not in df_meta.columns or 'tmdbId' not in df_enriched.columns:\n",
    "    raise ValueError(\"Both datasets must have the column 'tmdbId'\")\n",
    "\n",
    "merged_df = pd.merge(df_meta, df_enriched, on='tmdbId', how='left')\n",
    "\n",
    "print(\"Merged shape:\", merged_df.shape)\n",
    "merged_df.head()\n",
    "\n",
    "output_path = r\"C:\\Users\\sarva\\MoviePulse\\data\\processed\\movies_metadata_enriched.csv\"\n",
    "merged_df.to_csv(output_path, index=False)\n",
    "print(f\" Merged data saved to: {output_path}\")\n"
   ]
  },
  {
   "cell_type": "code",
   "execution_count": null,
   "id": "cdf881d2",
   "metadata": {},
   "outputs": [],
   "source": []
  }
 ],
 "metadata": {
  "kernelspec": {
   "display_name": "moviepulse",
   "language": "python",
   "name": "python3"
  },
  "language_info": {
   "codemirror_mode": {
    "name": "ipython",
    "version": 3
   },
   "file_extension": ".py",
   "mimetype": "text/x-python",
   "name": "python",
   "nbconvert_exporter": "python",
   "pygments_lexer": "ipython3",
   "version": "3.8.20"
  }
 },
 "nbformat": 4,
 "nbformat_minor": 5
}
