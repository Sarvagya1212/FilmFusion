{
 "cells": [
  {
   "cell_type": "code",
   "execution_count": 1,
   "id": "edb35357",
   "metadata": {},
   "outputs": [],
   "source": [
    "import sys\n",
    "import os\n",
    "\n",
    "sys.path.append(os.path.abspath('..'))\n",
    "\n",
    "from src.data.load_data import load_movielens\n",
    "import pandas as pd\n"
   ]
  },
  {
   "cell_type": "code",
   "execution_count": 2,
   "id": "2f3f886a",
   "metadata": {},
   "outputs": [],
   "source": [
    "data = load_movielens()"
   ]
  },
  {
   "cell_type": "code",
   "execution_count": 3,
   "id": "3494bc18",
   "metadata": {},
   "outputs": [
    {
     "data": {
      "text/html": [
       "<div>\n",
       "<style scoped>\n",
       "    .dataframe tbody tr th:only-of-type {\n",
       "        vertical-align: middle;\n",
       "    }\n",
       "\n",
       "    .dataframe tbody tr th {\n",
       "        vertical-align: top;\n",
       "    }\n",
       "\n",
       "    .dataframe thead th {\n",
       "        text-align: right;\n",
       "    }\n",
       "</style>\n",
       "<table border=\"1\" class=\"dataframe\">\n",
       "  <thead>\n",
       "    <tr style=\"text-align: right;\">\n",
       "      <th></th>\n",
       "      <th>userId</th>\n",
       "      <th>movieId</th>\n",
       "      <th>rating</th>\n",
       "      <th>timestamp</th>\n",
       "    </tr>\n",
       "  </thead>\n",
       "  <tbody>\n",
       "    <tr>\n",
       "      <th>0</th>\n",
       "      <td>1</td>\n",
       "      <td>1</td>\n",
       "      <td>4.0</td>\n",
       "      <td>964982703</td>\n",
       "    </tr>\n",
       "    <tr>\n",
       "      <th>1</th>\n",
       "      <td>1</td>\n",
       "      <td>3</td>\n",
       "      <td>4.0</td>\n",
       "      <td>964981247</td>\n",
       "    </tr>\n",
       "    <tr>\n",
       "      <th>2</th>\n",
       "      <td>1</td>\n",
       "      <td>6</td>\n",
       "      <td>4.0</td>\n",
       "      <td>964982224</td>\n",
       "    </tr>\n",
       "    <tr>\n",
       "      <th>3</th>\n",
       "      <td>1</td>\n",
       "      <td>47</td>\n",
       "      <td>5.0</td>\n",
       "      <td>964983815</td>\n",
       "    </tr>\n",
       "    <tr>\n",
       "      <th>4</th>\n",
       "      <td>1</td>\n",
       "      <td>50</td>\n",
       "      <td>5.0</td>\n",
       "      <td>964982931</td>\n",
       "    </tr>\n",
       "  </tbody>\n",
       "</table>\n",
       "</div>"
      ],
      "text/plain": [
       "   userId  movieId  rating  timestamp\n",
       "0       1        1     4.0  964982703\n",
       "1       1        3     4.0  964981247\n",
       "2       1        6     4.0  964982224\n",
       "3       1       47     5.0  964983815\n",
       "4       1       50     5.0  964982931"
      ]
     },
     "execution_count": 3,
     "metadata": {},
     "output_type": "execute_result"
    }
   ],
   "source": [
    "data['ratings'].head()"
   ]
  },
  {
   "cell_type": "code",
   "execution_count": 4,
   "id": "60ec6e0e",
   "metadata": {},
   "outputs": [
    {
     "data": {
      "text/html": [
       "<div>\n",
       "<style scoped>\n",
       "    .dataframe tbody tr th:only-of-type {\n",
       "        vertical-align: middle;\n",
       "    }\n",
       "\n",
       "    .dataframe tbody tr th {\n",
       "        vertical-align: top;\n",
       "    }\n",
       "\n",
       "    .dataframe thead th {\n",
       "        text-align: right;\n",
       "    }\n",
       "</style>\n",
       "<table border=\"1\" class=\"dataframe\">\n",
       "  <thead>\n",
       "    <tr style=\"text-align: right;\">\n",
       "      <th></th>\n",
       "      <th>movieId</th>\n",
       "      <th>title</th>\n",
       "      <th>genres</th>\n",
       "      <th>imdbId</th>\n",
       "      <th>tmdbId</th>\n",
       "    </tr>\n",
       "  </thead>\n",
       "  <tbody>\n",
       "    <tr>\n",
       "      <th>1029</th>\n",
       "      <td>1341</td>\n",
       "      <td>Burnt Offerings (1976)</td>\n",
       "      <td>Horror</td>\n",
       "      <td>74258</td>\n",
       "      <td>13549.0</td>\n",
       "    </tr>\n",
       "    <tr>\n",
       "      <th>2648</th>\n",
       "      <td>3545</td>\n",
       "      <td>Cabaret (1972)</td>\n",
       "      <td>Drama|Musical</td>\n",
       "      <td>68327</td>\n",
       "      <td>10784.0</td>\n",
       "    </tr>\n",
       "    <tr>\n",
       "      <th>4436</th>\n",
       "      <td>6552</td>\n",
       "      <td>Dirty Pretty Things (2002)</td>\n",
       "      <td>Crime|Drama|Thriller</td>\n",
       "      <td>301199</td>\n",
       "      <td>3472.0</td>\n",
       "    </tr>\n",
       "    <tr>\n",
       "      <th>2156</th>\n",
       "      <td>2871</td>\n",
       "      <td>Deliverance (1972)</td>\n",
       "      <td>Adventure|Drama|Thriller</td>\n",
       "      <td>68473</td>\n",
       "      <td>10669.0</td>\n",
       "    </tr>\n",
       "    <tr>\n",
       "      <th>8491</th>\n",
       "      <td>113350</td>\n",
       "      <td>I'll Follow You Down (2013)</td>\n",
       "      <td>Drama|Mystery|Sci-Fi</td>\n",
       "      <td>2048770</td>\n",
       "      <td>273404.0</td>\n",
       "    </tr>\n",
       "  </tbody>\n",
       "</table>\n",
       "</div>"
      ],
      "text/plain": [
       "      movieId                        title                    genres   imdbId  \\\n",
       "1029     1341       Burnt Offerings (1976)                    Horror    74258   \n",
       "2648     3545               Cabaret (1972)             Drama|Musical    68327   \n",
       "4436     6552   Dirty Pretty Things (2002)      Crime|Drama|Thriller   301199   \n",
       "2156     2871           Deliverance (1972)  Adventure|Drama|Thriller    68473   \n",
       "8491   113350  I'll Follow You Down (2013)      Drama|Mystery|Sci-Fi  2048770   \n",
       "\n",
       "        tmdbId  \n",
       "1029   13549.0  \n",
       "2648   10784.0  \n",
       "4436    3472.0  \n",
       "2156   10669.0  \n",
       "8491  273404.0  "
      ]
     },
     "execution_count": 4,
     "metadata": {},
     "output_type": "execute_result"
    }
   ],
   "source": [
    "data[\"movies_merge\"].sample(5)"
   ]
  },
  {
   "cell_type": "code",
   "execution_count": 5,
   "id": "73cb25e5",
   "metadata": {},
   "outputs": [],
   "source": [
    "df = data[\"movies_merge\"]\n",
    "df['genres'] = df['genres'].str.split('|')\n",
    "\n",
    "ratings = data['ratings']    \n",
    "ratings['timestamp']  = pd.to_datetime(ratings['timestamp'] , unit='s')"
   ]
  },
  {
   "cell_type": "code",
   "execution_count": 6,
   "id": "9157931a",
   "metadata": {},
   "outputs": [],
   "source": [
    "df.to_csv(r\"C:\\Users\\sarva\\MoviePulse\\data\\processed\\movies_clean.csv\", index=False)\n",
    "ratings.to_csv(r\"C:\\Users\\sarva\\MoviePulse\\data\\processed\\ratings_clean.csv\", index=False)\n"
   ]
  },
  {
   "cell_type": "code",
   "execution_count": 5,
   "id": "00788f57",
   "metadata": {},
   "outputs": [
    {
     "name": "stdout",
     "output_type": "stream",
     "text": [
      "Saved: data/processed/ratings_with_tmdb.csv\n"
     ]
    }
   ],
   "source": [
    "import pandas as pd\n",
    "\n",
    "ratings_df = pd.read_csv(r\"C:\\Users\\sarva\\MoviePulse\\data\\processed\\ratings_clean.csv\")\n",
    "metadata_df = pd.read_csv(r\"C:\\Users\\sarva\\MoviePulse\\data\\processed\\movie_feature.csv\")\n",
    "\n",
    "\n",
    "ratings_with_tmdb = pd.merge(ratings_df, metadata_df[['movieId', 'tmdbId']], on='movieId', how='left')\n",
    "\n",
    "\n",
    "ratings_with_tmdb = ratings_with_tmdb.dropna(subset=['tmdbId'])\n",
    "\n",
    "\n",
    "ratings_with_tmdb.to_csv(r'C:\\Users\\sarva\\MoviePulse\\data\\processed\\ratings_cleans.csv', index=False)\n",
    "\n",
    "print(\"Saved: data/processed/ratings_with_tmdb.csv\")\n"
   ]
  },
  {
   "cell_type": "code",
   "execution_count": null,
   "id": "d0273369",
   "metadata": {},
   "outputs": [],
   "source": []
  }
 ],
 "metadata": {
  "kernelspec": {
   "display_name": "moviepulse",
   "language": "python",
   "name": "python3"
  },
  "language_info": {
   "codemirror_mode": {
    "name": "ipython",
    "version": 3
   },
   "file_extension": ".py",
   "mimetype": "text/x-python",
   "name": "python",
   "nbconvert_exporter": "python",
   "pygments_lexer": "ipython3",
   "version": "3.8.20"
  }
 },
 "nbformat": 4,
 "nbformat_minor": 5
}
