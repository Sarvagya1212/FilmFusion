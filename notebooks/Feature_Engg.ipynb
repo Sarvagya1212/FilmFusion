{
 "cells": [
  {
   "cell_type": "markdown",
   "id": "dd423d36",
   "metadata": {},
   "source": [
    "# Feature Engineering"
   ]
  },
  {
   "cell_type": "code",
   "execution_count": 1,
   "id": "86038322",
   "metadata": {},
   "outputs": [],
   "source": [
    "import os\n",
    "import sys\n",
    "import pandas as pd\n",
    "\n",
    "sys.path.append(os.path.abspath('..'))"
   ]
  },
  {
   "cell_type": "code",
   "execution_count": 2,
   "id": "07e3184c",
   "metadata": {},
   "outputs": [
    {
     "name": "stderr",
     "output_type": "stream",
     "text": [
      "e:\\kinshu\\envs\\moviepulse\\lib\\site-packages\\sentence_transformers\\cross_encoder\\CrossEncoder.py:13: TqdmExperimentalWarning: Using `tqdm.autonotebook.tqdm` in notebook mode. Use `tqdm.tqdm` instead to force console mode (e.g. in jupyter console)\n",
      "  from tqdm.autonotebook import tqdm, trange\n"
     ]
    }
   ],
   "source": [
    "from src.FeatureEngineering.feature_engineer import FeatureEngineer\n",
    "from src.FeatureEngineering.Metadata_features import TFIDFFeatureEngineer\n",
    "from src.FeatureEngineering.embeddings import EmbeddingFeatureEngineer\n",
    "\n"
   ]
  },
  {
   "cell_type": "code",
   "execution_count": 3,
   "id": "c91077fc",
   "metadata": {},
   "outputs": [],
   "source": [
    "movies_path= r'C:\\Users\\sarva\\MoviePulse\\data\\processed\\movies_clean.csv'\n",
    "ratings_path= r'C:\\Users\\sarva\\MoviePulse\\data\\processed\\ratings_clean.csv'\n",
    "tmdb_metaadata_path = r''"
   ]
  },
  {
   "cell_type": "code",
   "execution_count": 4,
   "id": "3f4e4fa2",
   "metadata": {},
   "outputs": [
    {
     "name": "stdout",
     "output_type": "stream",
     "text": [
      "Features saved to C:\\Users\\sarva\\MoviePulse\\data\\processed\\movie_feature.csv\n"
     ]
    }
   ],
   "source": [
    "fe = FeatureEngineer(\n",
    "    movies_path= r'C:\\Users\\sarva\\MoviePulse\\data\\processed\\movies_clean.csv',\n",
    "    ratings_path= r'C:\\Users\\sarva\\MoviePulse\\data\\processed\\ratings_clean.csv',\n",
    "    save_path=r'C:\\Users\\sarva\\MoviePulse\\data\\processed\\movie_feature.csv'\n",
    ")\n",
    "\n",
    "fe.run()"
   ]
  },
  {
   "cell_type": "code",
   "execution_count": 5,
   "id": "75b93440",
   "metadata": {},
   "outputs": [],
   "source": [
    "df = fe.movie_features"
   ]
  },
  {
   "cell_type": "code",
   "execution_count": 6,
   "id": "cef2d5b5",
   "metadata": {},
   "outputs": [
    {
     "data": {
      "text/html": [
       "<div>\n",
       "<style scoped>\n",
       "    .dataframe tbody tr th:only-of-type {\n",
       "        vertical-align: middle;\n",
       "    }\n",
       "\n",
       "    .dataframe tbody tr th {\n",
       "        vertical-align: top;\n",
       "    }\n",
       "\n",
       "    .dataframe thead th {\n",
       "        text-align: right;\n",
       "    }\n",
       "</style>\n",
       "<table border=\"1\" class=\"dataframe\">\n",
       "  <thead>\n",
       "    <tr style=\"text-align: right;\">\n",
       "      <th></th>\n",
       "      <th>movieId</th>\n",
       "      <th>title</th>\n",
       "      <th>genres</th>\n",
       "      <th>imdbId</th>\n",
       "      <th>tmdbId</th>\n",
       "      <th>genre_count</th>\n",
       "      <th>main_genre</th>\n",
       "      <th>avg_ratings</th>\n",
       "      <th>num_ratings</th>\n",
       "    </tr>\n",
       "  </thead>\n",
       "  <tbody>\n",
       "    <tr>\n",
       "      <th>0</th>\n",
       "      <td>1</td>\n",
       "      <td>Toy Story (1995)</td>\n",
       "      <td>[Adventure, Animation, Children, Comedy, Fantasy]</td>\n",
       "      <td>114709</td>\n",
       "      <td>862.0</td>\n",
       "      <td>5</td>\n",
       "      <td>Adventure</td>\n",
       "      <td>3.920930</td>\n",
       "      <td>215.0</td>\n",
       "    </tr>\n",
       "    <tr>\n",
       "      <th>1</th>\n",
       "      <td>2</td>\n",
       "      <td>Jumanji (1995)</td>\n",
       "      <td>[Adventure, Children, Fantasy]</td>\n",
       "      <td>113497</td>\n",
       "      <td>8844.0</td>\n",
       "      <td>3</td>\n",
       "      <td>Adventure</td>\n",
       "      <td>3.431818</td>\n",
       "      <td>110.0</td>\n",
       "    </tr>\n",
       "    <tr>\n",
       "      <th>2</th>\n",
       "      <td>3</td>\n",
       "      <td>Grumpier Old Men (1995)</td>\n",
       "      <td>[Comedy, Romance]</td>\n",
       "      <td>113228</td>\n",
       "      <td>15602.0</td>\n",
       "      <td>2</td>\n",
       "      <td>Comedy</td>\n",
       "      <td>3.259615</td>\n",
       "      <td>52.0</td>\n",
       "    </tr>\n",
       "    <tr>\n",
       "      <th>3</th>\n",
       "      <td>4</td>\n",
       "      <td>Waiting to Exhale (1995)</td>\n",
       "      <td>[Comedy, Drama, Romance]</td>\n",
       "      <td>114885</td>\n",
       "      <td>31357.0</td>\n",
       "      <td>3</td>\n",
       "      <td>Comedy</td>\n",
       "      <td>2.357143</td>\n",
       "      <td>7.0</td>\n",
       "    </tr>\n",
       "    <tr>\n",
       "      <th>4</th>\n",
       "      <td>5</td>\n",
       "      <td>Father of the Bride Part II (1995)</td>\n",
       "      <td>[Comedy]</td>\n",
       "      <td>113041</td>\n",
       "      <td>11862.0</td>\n",
       "      <td>1</td>\n",
       "      <td>Comedy</td>\n",
       "      <td>3.071429</td>\n",
       "      <td>49.0</td>\n",
       "    </tr>\n",
       "  </tbody>\n",
       "</table>\n",
       "</div>"
      ],
      "text/plain": [
       "   movieId                               title  \\\n",
       "0        1                    Toy Story (1995)   \n",
       "1        2                      Jumanji (1995)   \n",
       "2        3             Grumpier Old Men (1995)   \n",
       "3        4            Waiting to Exhale (1995)   \n",
       "4        5  Father of the Bride Part II (1995)   \n",
       "\n",
       "                                              genres  imdbId   tmdbId  \\\n",
       "0  [Adventure, Animation, Children, Comedy, Fantasy]  114709    862.0   \n",
       "1                     [Adventure, Children, Fantasy]  113497   8844.0   \n",
       "2                                  [Comedy, Romance]  113228  15602.0   \n",
       "3                           [Comedy, Drama, Romance]  114885  31357.0   \n",
       "4                                           [Comedy]  113041  11862.0   \n",
       "\n",
       "   genre_count main_genre  avg_ratings  num_ratings  \n",
       "0            5  Adventure     3.920930        215.0  \n",
       "1            3  Adventure     3.431818        110.0  \n",
       "2            2     Comedy     3.259615         52.0  \n",
       "3            3     Comedy     2.357143          7.0  \n",
       "4            1     Comedy     3.071429         49.0  "
      ]
     },
     "execution_count": 6,
     "metadata": {},
     "output_type": "execute_result"
    }
   ],
   "source": [
    "df.head()"
   ]
  },
  {
   "cell_type": "markdown",
   "id": "1b76a71f",
   "metadata": {},
   "source": [
    "Neatly organized\n",
    "\n",
    "Easy to extend (e.g., add NLP/text features later)\n",
    "\n",
    "Ready for production or pipeline use"
   ]
  },
  {
   "cell_type": "code",
   "execution_count": 7,
   "id": "15c6b339",
   "metadata": {},
   "outputs": [
    {
     "name": "stdout",
     "output_type": "stream",
     "text": [
      "Merged all batches into data\\processed\\movies_metadata_full.csv\n"
     ]
    }
   ],
   "source": [
    "import pandas as pd\n",
    "import glob\n",
    "\n",
    "batch_files = glob.glob(r\"C:\\Users\\sarva\\MoviePulse\\data\\metadata_batches\\batch_*.csv\")\n",
    "all_data = pd.concat([pd.read_csv(f) for f in batch_files], ignore_index=True)\n",
    "all_data.to_csv(r\"C:\\Users\\sarva\\MoviePulse\\data\\processed\\movies_metadata_full.csv\", index=False)\n",
    "print(\"Merged all batches into data\\processed\\movies_metadata_full.csv\")\n"
   ]
  },
  {
   "cell_type": "code",
   "execution_count": 8,
   "id": "86bb1db3",
   "metadata": {},
   "outputs": [
    {
     "name": "stdout",
     "output_type": "stream",
     "text": [
      "Computing TF-IDF features...\n",
      "Saving TF-IDF features...\n",
      "Features saved:\n",
      "- Matrix: C:\\Users\\sarva\\MoviePulse\\data\\Features\\tfidf_matrix.npz\n",
      "- Sample CSV: C:\\Users\\sarva\\MoviePulse\\data\\Features\\tfidf_sample.csv\n",
      "- Vectorizer: C:\\Users\\sarva\\MoviePulse\\data\\Features\\tfidf_vectorizer.pkl\n"
     ]
    }
   ],
   "source": [
    "engineer = TFIDFFeatureEngineer(\n",
    "    input_path=r\"C:\\Users\\sarva\\MoviePulse\\data\\processed\\movies_metadata_full.csv\",\n",
    "    save_path_csv=r\"C:\\Users\\sarva\\MoviePulse\\data\\Features\\tfidf_sample.csv\",\n",
    "    save_path_npz=r\"C:\\Users\\sarva\\MoviePulse\\data\\Features\\tfidf_matrix.npz\",\n",
    "    vectorizer_path=r\"C:\\Users\\sarva\\MoviePulse\\data\\Features\\tfidf_vectorizer.pkl\"\n",
    ")\n",
    "\n",
    "engineer.run()\n"
   ]
  },
  {
   "cell_type": "code",
   "execution_count": 9,
   "id": "5ff4a2c9",
   "metadata": {},
   "outputs": [],
   "source": [
    "embedding_engineer = EmbeddingFeatureEngineer(\n",
    "    input_path= r'C:\\Users\\sarva\\MoviePulse\\data\\processed\\movies_metadata_full.csv',\n",
    "    save_path_npy= r'C:\\Users\\sarva\\MoviePulse\\data\\Features\\embeddings_matrix.npy',\n",
    "    save_path_csv= r'C:\\Users\\sarva\\MoviePulse\\data\\Features\\embeddings.csv',\n",
    "    model_name='all-MiniLM-L6-v2',\n",
    "    text_fields=['title', 'overview', 'tagline', 'genres', 'keywords']\n",
    ")"
   ]
  },
  {
   "cell_type": "code",
   "execution_count": 10,
   "id": "502f4a87",
   "metadata": {},
   "outputs": [
    {
     "name": "stdout",
     "output_type": "stream",
     "text": [
      "--> Encoding embeddings...\n"
     ]
    },
    {
     "data": {
      "application/vnd.jupyter.widget-view+json": {
       "model_id": "31578451c489486e8aa0fba6a999e28a",
       "version_major": 2,
       "version_minor": 0
      },
      "text/plain": [
       "Batches:   0%|          | 0/305 [00:00<?, ?it/s]"
      ]
     },
     "metadata": {},
     "output_type": "display_data"
    },
    {
     "name": "stdout",
     "output_type": "stream",
     "text": [
      "--> Embeddings encoded successfully.\n",
      "--> Saving embeddings...\n",
      "Embeddings saved to C:\\Users\\sarva\\MoviePulse\\data\\Features\\embeddings_matrix.npy\n",
      "Saving tmdbId and embeddings to CSV...\n",
      "Embeddings saved to C:\\Users\\sarva\\MoviePulse\\data\\Features\\embeddings.csv\n",
      "Embedding feature engineering completed successfully.\n"
     ]
    }
   ],
   "source": [
    "embedding_engineer.run()"
   ]
  },
  {
   "cell_type": "code",
   "execution_count": null,
   "id": "7b0b813b",
   "metadata": {},
   "outputs": [],
   "source": []
  }
 ],
 "metadata": {
  "kernelspec": {
   "display_name": "moviepulse",
   "language": "python",
   "name": "python3"
  },
  "language_info": {
   "codemirror_mode": {
    "name": "ipython",
    "version": 3
   },
   "file_extension": ".py",
   "mimetype": "text/x-python",
   "name": "python",
   "nbconvert_exporter": "python",
   "pygments_lexer": "ipython3",
   "version": "3.8.20"
  }
 },
 "nbformat": 4,
 "nbformat_minor": 5
}
