{
 "cells": [
  {
   "cell_type": "markdown",
   "id": "dd423d36",
   "metadata": {},
   "source": [
    "# Feature Engineering"
   ]
  },
  {
   "cell_type": "code",
   "execution_count": 1,
   "id": "86038322",
   "metadata": {},
   "outputs": [],
   "source": [
    "import os\n",
    "import sys\n",
    "import pandas as pd\n",
    "\n",
    "sys.path.append(os.path.abspath('..'))"
   ]
  },
  {
   "cell_type": "code",
   "execution_count": 2,
   "id": "07e3184c",
   "metadata": {},
   "outputs": [],
   "source": [
    "from src.FeatureEngineering.feature_engineer import FeatureEngineer"
   ]
  },
  {
   "cell_type": "code",
   "execution_count": 3,
   "id": "3f4e4fa2",
   "metadata": {},
   "outputs": [
    {
     "name": "stdout",
     "output_type": "stream",
     "text": [
      "Features saved to C:\\Users\\sarva\\MoviePulse\\data\\processed\\movie_feature.csv\n"
     ]
    }
   ],
   "source": [
    "fe = FeatureEngineer(\n",
    "    movies_path= r'C:\\Users\\sarva\\MoviePulse\\data\\processed\\movies_clean.csv',\n",
    "    ratings_path= r'C:\\Users\\sarva\\MoviePulse\\data\\processed\\ratings_clean.csv',\n",
    "    save_path=r'C:\\Users\\sarva\\MoviePulse\\data\\processed\\movie_feature.csv'\n",
    ")\n",
    "\n",
    "fe.run()"
   ]
  },
  {
   "cell_type": "code",
   "execution_count": 4,
   "id": "75b93440",
   "metadata": {},
   "outputs": [],
   "source": [
    "df = fe.movie_features"
   ]
  },
  {
   "cell_type": "code",
   "execution_count": 5,
   "id": "cef2d5b5",
   "metadata": {},
   "outputs": [
    {
     "data": {
      "text/html": [
       "<div>\n",
       "<style scoped>\n",
       "    .dataframe tbody tr th:only-of-type {\n",
       "        vertical-align: middle;\n",
       "    }\n",
       "\n",
       "    .dataframe tbody tr th {\n",
       "        vertical-align: top;\n",
       "    }\n",
       "\n",
       "    .dataframe thead th {\n",
       "        text-align: right;\n",
       "    }\n",
       "</style>\n",
       "<table border=\"1\" class=\"dataframe\">\n",
       "  <thead>\n",
       "    <tr style=\"text-align: right;\">\n",
       "      <th></th>\n",
       "      <th>movieId</th>\n",
       "      <th>title</th>\n",
       "      <th>genres</th>\n",
       "      <th>imdbId</th>\n",
       "      <th>tmdbId</th>\n",
       "      <th>genre_count</th>\n",
       "      <th>main_genre</th>\n",
       "      <th>avg_ratings</th>\n",
       "      <th>num_ratings</th>\n",
       "    </tr>\n",
       "  </thead>\n",
       "  <tbody>\n",
       "    <tr>\n",
       "      <th>0</th>\n",
       "      <td>1</td>\n",
       "      <td>Toy Story (1995)</td>\n",
       "      <td>[Adventure, Animation, Children, Comedy, Fantasy]</td>\n",
       "      <td>114709</td>\n",
       "      <td>862.0</td>\n",
       "      <td>5</td>\n",
       "      <td>Adventure</td>\n",
       "      <td>3.920930</td>\n",
       "      <td>215.0</td>\n",
       "    </tr>\n",
       "    <tr>\n",
       "      <th>1</th>\n",
       "      <td>2</td>\n",
       "      <td>Jumanji (1995)</td>\n",
       "      <td>[Adventure, Children, Fantasy]</td>\n",
       "      <td>113497</td>\n",
       "      <td>8844.0</td>\n",
       "      <td>3</td>\n",
       "      <td>Adventure</td>\n",
       "      <td>3.431818</td>\n",
       "      <td>110.0</td>\n",
       "    </tr>\n",
       "    <tr>\n",
       "      <th>2</th>\n",
       "      <td>3</td>\n",
       "      <td>Grumpier Old Men (1995)</td>\n",
       "      <td>[Comedy, Romance]</td>\n",
       "      <td>113228</td>\n",
       "      <td>15602.0</td>\n",
       "      <td>2</td>\n",
       "      <td>Comedy</td>\n",
       "      <td>3.259615</td>\n",
       "      <td>52.0</td>\n",
       "    </tr>\n",
       "    <tr>\n",
       "      <th>3</th>\n",
       "      <td>4</td>\n",
       "      <td>Waiting to Exhale (1995)</td>\n",
       "      <td>[Comedy, Drama, Romance]</td>\n",
       "      <td>114885</td>\n",
       "      <td>31357.0</td>\n",
       "      <td>3</td>\n",
       "      <td>Comedy</td>\n",
       "      <td>2.357143</td>\n",
       "      <td>7.0</td>\n",
       "    </tr>\n",
       "    <tr>\n",
       "      <th>4</th>\n",
       "      <td>5</td>\n",
       "      <td>Father of the Bride Part II (1995)</td>\n",
       "      <td>[Comedy]</td>\n",
       "      <td>113041</td>\n",
       "      <td>11862.0</td>\n",
       "      <td>1</td>\n",
       "      <td>Comedy</td>\n",
       "      <td>3.071429</td>\n",
       "      <td>49.0</td>\n",
       "    </tr>\n",
       "  </tbody>\n",
       "</table>\n",
       "</div>"
      ],
      "text/plain": [
       "   movieId                               title  \\\n",
       "0        1                    Toy Story (1995)   \n",
       "1        2                      Jumanji (1995)   \n",
       "2        3             Grumpier Old Men (1995)   \n",
       "3        4            Waiting to Exhale (1995)   \n",
       "4        5  Father of the Bride Part II (1995)   \n",
       "\n",
       "                                              genres  imdbId   tmdbId  \\\n",
       "0  [Adventure, Animation, Children, Comedy, Fantasy]  114709    862.0   \n",
       "1                     [Adventure, Children, Fantasy]  113497   8844.0   \n",
       "2                                  [Comedy, Romance]  113228  15602.0   \n",
       "3                           [Comedy, Drama, Romance]  114885  31357.0   \n",
       "4                                           [Comedy]  113041  11862.0   \n",
       "\n",
       "   genre_count main_genre  avg_ratings  num_ratings  \n",
       "0            5  Adventure     3.920930        215.0  \n",
       "1            3  Adventure     3.431818        110.0  \n",
       "2            2     Comedy     3.259615         52.0  \n",
       "3            3     Comedy     2.357143          7.0  \n",
       "4            1     Comedy     3.071429         49.0  "
      ]
     },
     "execution_count": 5,
     "metadata": {},
     "output_type": "execute_result"
    }
   ],
   "source": [
    "df.head()"
   ]
  },
  {
   "cell_type": "markdown",
   "id": "1b76a71f",
   "metadata": {},
   "source": [
    "Neatly organized\n",
    "\n",
    "Easy to extend (e.g., add NLP/text features later)\n",
    "\n",
    "Ready for production or pipeline use"
   ]
  },
  {
   "cell_type": "code",
   "execution_count": null,
   "id": "603d7792",
   "metadata": {},
   "outputs": [],
   "source": []
  }
 ],
 "metadata": {
  "kernelspec": {
   "display_name": "moviepulse",
   "language": "python",
   "name": "python3"
  },
  "language_info": {
   "codemirror_mode": {
    "name": "ipython",
    "version": 3
   },
   "file_extension": ".py",
   "mimetype": "text/x-python",
   "name": "python",
   "nbconvert_exporter": "python",
   "pygments_lexer": "ipython3",
   "version": "3.8.20"
  }
 },
 "nbformat": 4,
 "nbformat_minor": 5
}
