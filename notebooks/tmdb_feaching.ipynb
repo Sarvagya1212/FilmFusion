{
 "cells": [
  {
   "cell_type": "code",
   "execution_count": 1,
   "id": "0ae3e5eb",
   "metadata": {},
   "outputs": [],
   "source": [
    "from dotenv import load_dotenv\n",
    "import os\n",
    "import sys\n",
    "\n",
    "load_dotenv()  # This loads the .env file\n",
    "TMDB_API_KEY = os.getenv(\"e52ee85b9fa9966a3e9db5aa141ef9cc\")\n",
    "sys.path.append(os.path.abspath('..'))   "
   ]
  },
  {
   "cell_type": "code",
   "execution_count": null,
   "id": "9723231c",
   "metadata": {},
   "outputs": [],
   "source": [
    "from src.data.ingest_data import fetch_all_metadata\n",
    "import pandas as pd\n",
    "\n",
    "movies = pd.read_csv(r\"c:\\Users\\sarva\\MoviePulse\\data\\processed\\movies_clean.csv\")\n",
    "tmdb_ids = movies['tmdbId'].dropna().unique().tolist()\n"
   ]
  },
  {
   "cell_type": "code",
   "execution_count": 3,
   "id": "12bd3444",
   "metadata": {},
   "outputs": [
    {
     "name": "stdout",
     "output_type": "stream",
     "text": [
      "⏭️ Skipping batch 0 (already exists)\n",
      "⏭️ Skipping batch 1 (already exists)\n",
      "⏭️ Skipping batch 2 (already exists)\n",
      "⏭️ Skipping batch 3 (already exists)\n",
      "⏭️ Skipping batch 4 (already exists)\n",
      "⏭️ Skipping batch 5 (already exists)\n",
      "⏭️ Skipping batch 6 (already exists)\n",
      "⏭️ Skipping batch 7 (already exists)\n",
      "⏭️ Skipping batch 8 (already exists)\n"
     ]
    },
    {
     "name": "stderr",
     "output_type": "stream",
     "text": [
      "Batch 9:   0%|          | 0/500 [00:00<?, ?it/s]"
     ]
    },
    {
     "name": "stderr",
     "output_type": "stream",
     "text": [
      "Batch 9: 100%|██████████| 500/500 [07:10<00:00,  1.16it/s]\n"
     ]
    },
    {
     "name": "stdout",
     "output_type": "stream",
     "text": [
      "✅ Saved batch 9 to C:\\Users\\sarva\\MoviePulse\\data\\metadata_batches\\batch_9.csv\n"
     ]
    },
    {
     "name": "stderr",
     "output_type": "stream",
     "text": [
      "Batch 10: 100%|██████████| 500/500 [07:12<00:00,  1.16it/s]\n"
     ]
    },
    {
     "name": "stdout",
     "output_type": "stream",
     "text": [
      "✅ Saved batch 10 to C:\\Users\\sarva\\MoviePulse\\data\\metadata_batches\\batch_10.csv\n"
     ]
    },
    {
     "name": "stderr",
     "output_type": "stream",
     "text": [
      "Batch 11: 100%|██████████| 500/500 [07:52<00:00,  1.06it/s]\n"
     ]
    },
    {
     "name": "stdout",
     "output_type": "stream",
     "text": [
      "✅ Saved batch 11 to C:\\Users\\sarva\\MoviePulse\\data\\metadata_batches\\batch_11.csv\n"
     ]
    },
    {
     "name": "stderr",
     "output_type": "stream",
     "text": [
      "Batch 12: 100%|██████████| 500/500 [06:09<00:00,  1.35it/s]\n"
     ]
    },
    {
     "name": "stdout",
     "output_type": "stream",
     "text": [
      "✅ Saved batch 12 to C:\\Users\\sarva\\MoviePulse\\data\\metadata_batches\\batch_12.csv\n"
     ]
    },
    {
     "name": "stderr",
     "output_type": "stream",
     "text": [
      "Batch 13: 100%|██████████| 500/500 [06:13<00:00,  1.34it/s]\n"
     ]
    },
    {
     "name": "stdout",
     "output_type": "stream",
     "text": [
      "✅ Saved batch 13 to C:\\Users\\sarva\\MoviePulse\\data\\metadata_batches\\batch_13.csv\n"
     ]
    },
    {
     "name": "stderr",
     "output_type": "stream",
     "text": [
      "Batch 14: 100%|██████████| 500/500 [05:59<00:00,  1.39it/s]\n"
     ]
    },
    {
     "name": "stdout",
     "output_type": "stream",
     "text": [
      "✅ Saved batch 14 to C:\\Users\\sarva\\MoviePulse\\data\\metadata_batches\\batch_14.csv\n"
     ]
    },
    {
     "name": "stderr",
     "output_type": "stream",
     "text": [
      "Batch 15: 100%|██████████| 500/500 [06:39<00:00,  1.25it/s]\n"
     ]
    },
    {
     "name": "stdout",
     "output_type": "stream",
     "text": [
      "✅ Saved batch 15 to C:\\Users\\sarva\\MoviePulse\\data\\metadata_batches\\batch_15.csv\n"
     ]
    },
    {
     "name": "stderr",
     "output_type": "stream",
     "text": [
      "Batch 16: 100%|██████████| 500/500 [06:01<00:00,  1.38it/s]\n"
     ]
    },
    {
     "name": "stdout",
     "output_type": "stream",
     "text": [
      "✅ Saved batch 16 to C:\\Users\\sarva\\MoviePulse\\data\\metadata_batches\\batch_16.csv\n"
     ]
    },
    {
     "name": "stderr",
     "output_type": "stream",
     "text": [
      "Batch 17: 100%|██████████| 500/500 [06:13<00:00,  1.34it/s]\n"
     ]
    },
    {
     "name": "stdout",
     "output_type": "stream",
     "text": [
      "✅ Saved batch 17 to C:\\Users\\sarva\\MoviePulse\\data\\metadata_batches\\batch_17.csv\n"
     ]
    },
    {
     "name": "stderr",
     "output_type": "stream",
     "text": [
      "Batch 18: 100%|██████████| 500/500 [09:42<00:00,  1.16s/it]\n"
     ]
    },
    {
     "name": "stdout",
     "output_type": "stream",
     "text": [
      "✅ Saved batch 18 to C:\\Users\\sarva\\MoviePulse\\data\\metadata_batches\\batch_18.csv\n"
     ]
    },
    {
     "name": "stderr",
     "output_type": "stream",
     "text": [
      "Batch 19: 100%|██████████| 233/233 [03:34<00:00,  1.09it/s]"
     ]
    },
    {
     "name": "stdout",
     "output_type": "stream",
     "text": [
      "✅ Saved batch 19 to C:\\Users\\sarva\\MoviePulse\\data\\metadata_batches\\batch_19.csv\n"
     ]
    },
    {
     "name": "stderr",
     "output_type": "stream",
     "text": [
      "\n"
     ]
    }
   ],
   "source": [
    "\n",
    "fetch_all_metadata(tmdb_ids, batch_size=500)\n"
   ]
  },
  {
   "cell_type": "code",
   "execution_count": null,
   "id": "ce71a26d",
   "metadata": {},
   "outputs": [],
   "source": []
  }
 ],
 "metadata": {
  "kernelspec": {
   "display_name": "moviepulse",
   "language": "python",
   "name": "python3"
  },
  "language_info": {
   "codemirror_mode": {
    "name": "ipython",
    "version": 3
   },
   "file_extension": ".py",
   "mimetype": "text/x-python",
   "name": "python",
   "nbconvert_exporter": "python",
   "pygments_lexer": "ipython3",
   "version": "3.8.20"
  }
 },
 "nbformat": 4,
 "nbformat_minor": 5
}
